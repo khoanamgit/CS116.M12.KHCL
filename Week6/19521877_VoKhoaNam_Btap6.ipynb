{
  "nbformat": 4,
  "nbformat_minor": 0,
  "metadata": {
    "colab": {
      "name": "CS116_19521877.ipynb",
      "provenance": [],
      "collapsed_sections": [],
      "toc_visible": true
    },
    "kernelspec": {
      "name": "python3",
      "display_name": "Python 3"
    },
    "language_info": {
      "name": "python"
    }
  },
  "cells": [
    {
      "cell_type": "markdown",
      "metadata": {
        "id": "zaI3-sZJtJQK"
      },
      "source": [
        "# Thông Tin Sinh Viên\n",
        "1. Họ tên: Võ Khoa Nam\n",
        "2. Mssv: 19521877\n",
        "3. Lớp: CS116.M12.KHCL"
      ]
    },
    {
      "cell_type": "code",
      "metadata": {
        "colab": {
          "base_uri": "https://localhost:8080/"
        },
        "id": "J6LnghppLi9A",
        "outputId": "52063d82-de86-4725-d9ac-5e52b1c28dae"
      },
      "source": [
        "from google.colab import drive\n",
        "drive.mount('/drive')"
      ],
      "execution_count": null,
      "outputs": [
        {
          "output_type": "stream",
          "name": "stdout",
          "text": [
            "Mounted at /drive\n"
          ]
        }
      ]
    },
    {
      "cell_type": "code",
      "metadata": {
        "colab": {
          "base_uri": "https://localhost:8080/"
        },
        "id": "WDOrV43jj5ek",
        "outputId": "7246ab9d-e033-4b2c-de21-dc57b14657c7"
      },
      "source": [
        "pip install geopandas"
      ],
      "execution_count": null,
      "outputs": [
        {
          "output_type": "stream",
          "name": "stdout",
          "text": [
            "Collecting geopandas\n",
            "  Downloading geopandas-0.10.2-py2.py3-none-any.whl (1.0 MB)\n",
            "\u001b[K     |████████████████████████████████| 1.0 MB 7.3 MB/s \n",
            "\u001b[?25hRequirement already satisfied: pandas>=0.25.0 in /usr/local/lib/python3.7/dist-packages (from geopandas) (1.1.5)\n",
            "Collecting pyproj>=2.2.0\n",
            "  Downloading pyproj-3.2.1-cp37-cp37m-manylinux2010_x86_64.whl (6.3 MB)\n",
            "\u001b[K     |████████████████████████████████| 6.3 MB 62.8 MB/s \n",
            "\u001b[?25hRequirement already satisfied: shapely>=1.6 in /usr/local/lib/python3.7/dist-packages (from geopandas) (1.7.1)\n",
            "Collecting fiona>=1.8\n",
            "  Downloading Fiona-1.8.20-cp37-cp37m-manylinux1_x86_64.whl (15.4 MB)\n",
            "\u001b[K     |████████████████████████████████| 15.4 MB 36 kB/s \n",
            "\u001b[?25hRequirement already satisfied: attrs>=17 in /usr/local/lib/python3.7/dist-packages (from fiona>=1.8->geopandas) (21.2.0)\n",
            "Requirement already satisfied: click>=4.0 in /usr/local/lib/python3.7/dist-packages (from fiona>=1.8->geopandas) (7.1.2)\n",
            "Collecting munch\n",
            "  Downloading munch-2.5.0-py2.py3-none-any.whl (10 kB)\n",
            "Collecting click-plugins>=1.0\n",
            "  Downloading click_plugins-1.1.1-py2.py3-none-any.whl (7.5 kB)\n",
            "Requirement already satisfied: six>=1.7 in /usr/local/lib/python3.7/dist-packages (from fiona>=1.8->geopandas) (1.15.0)\n",
            "Collecting cligj>=0.5\n",
            "  Downloading cligj-0.7.2-py3-none-any.whl (7.1 kB)\n",
            "Requirement already satisfied: certifi in /usr/local/lib/python3.7/dist-packages (from fiona>=1.8->geopandas) (2021.5.30)\n",
            "Requirement already satisfied: setuptools in /usr/local/lib/python3.7/dist-packages (from fiona>=1.8->geopandas) (57.4.0)\n",
            "Requirement already satisfied: numpy>=1.15.4 in /usr/local/lib/python3.7/dist-packages (from pandas>=0.25.0->geopandas) (1.19.5)\n",
            "Requirement already satisfied: pytz>=2017.2 in /usr/local/lib/python3.7/dist-packages (from pandas>=0.25.0->geopandas) (2018.9)\n",
            "Requirement already satisfied: python-dateutil>=2.7.3 in /usr/local/lib/python3.7/dist-packages (from pandas>=0.25.0->geopandas) (2.8.2)\n",
            "Installing collected packages: munch, cligj, click-plugins, pyproj, fiona, geopandas\n",
            "Successfully installed click-plugins-1.1.1 cligj-0.7.2 fiona-1.8.20 geopandas-0.10.2 munch-2.5.0 pyproj-3.2.1\n"
          ]
        }
      ]
    },
    {
      "cell_type": "code",
      "metadata": {
        "id": "FOKtTYBKj_G7"
      },
      "source": [
        "import geopandas\n",
        "import pandas as pd\n",
        "import numpy as np\n",
        "from sklearn.model_selection import KFold"
      ],
      "execution_count": null,
      "outputs": []
    },
    {
      "cell_type": "markdown",
      "metadata": {
        "id": "6HTdhvjukDm4"
      },
      "source": [
        "# Bước 1"
      ]
    },
    {
      "cell_type": "code",
      "metadata": {
        "colab": {
          "base_uri": "https://localhost:8080/",
          "height": 417
        },
        "id": "laj70o4ZkB4u",
        "outputId": "eb003c4d-663d-4d18-be3f-55f87dea0e87"
      },
      "source": [
        "# Đọc file data bằng geopandas\n",
        "data = geopandas.read_file('/drive/MyDrive/Social_Network_Ads.csv')\n",
        "data"
      ],
      "execution_count": null,
      "outputs": [
        {
          "output_type": "execute_result",
          "data": {
            "text/html": [
              "<div>\n",
              "<style scoped>\n",
              "    .dataframe tbody tr th:only-of-type {\n",
              "        vertical-align: middle;\n",
              "    }\n",
              "\n",
              "    .dataframe tbody tr th {\n",
              "        vertical-align: top;\n",
              "    }\n",
              "\n",
              "    .dataframe thead th {\n",
              "        text-align: right;\n",
              "    }\n",
              "</style>\n",
              "<table border=\"1\" class=\"dataframe\">\n",
              "  <thead>\n",
              "    <tr style=\"text-align: right;\">\n",
              "      <th></th>\n",
              "      <th>Age</th>\n",
              "      <th>EstimatedSalary</th>\n",
              "      <th>Purchased</th>\n",
              "      <th>geometry</th>\n",
              "    </tr>\n",
              "  </thead>\n",
              "  <tbody>\n",
              "    <tr>\n",
              "      <th>0</th>\n",
              "      <td>19</td>\n",
              "      <td>19000</td>\n",
              "      <td>0</td>\n",
              "      <td>None</td>\n",
              "    </tr>\n",
              "    <tr>\n",
              "      <th>1</th>\n",
              "      <td>35</td>\n",
              "      <td>20000</td>\n",
              "      <td>0</td>\n",
              "      <td>None</td>\n",
              "    </tr>\n",
              "    <tr>\n",
              "      <th>2</th>\n",
              "      <td>26</td>\n",
              "      <td>43000</td>\n",
              "      <td>0</td>\n",
              "      <td>None</td>\n",
              "    </tr>\n",
              "    <tr>\n",
              "      <th>3</th>\n",
              "      <td>27</td>\n",
              "      <td>57000</td>\n",
              "      <td>0</td>\n",
              "      <td>None</td>\n",
              "    </tr>\n",
              "    <tr>\n",
              "      <th>4</th>\n",
              "      <td>19</td>\n",
              "      <td>76000</td>\n",
              "      <td>0</td>\n",
              "      <td>None</td>\n",
              "    </tr>\n",
              "    <tr>\n",
              "      <th>...</th>\n",
              "      <td>...</td>\n",
              "      <td>...</td>\n",
              "      <td>...</td>\n",
              "      <td>...</td>\n",
              "    </tr>\n",
              "    <tr>\n",
              "      <th>395</th>\n",
              "      <td>46</td>\n",
              "      <td>41000</td>\n",
              "      <td>1</td>\n",
              "      <td>None</td>\n",
              "    </tr>\n",
              "    <tr>\n",
              "      <th>396</th>\n",
              "      <td>51</td>\n",
              "      <td>23000</td>\n",
              "      <td>1</td>\n",
              "      <td>None</td>\n",
              "    </tr>\n",
              "    <tr>\n",
              "      <th>397</th>\n",
              "      <td>50</td>\n",
              "      <td>20000</td>\n",
              "      <td>1</td>\n",
              "      <td>None</td>\n",
              "    </tr>\n",
              "    <tr>\n",
              "      <th>398</th>\n",
              "      <td>36</td>\n",
              "      <td>33000</td>\n",
              "      <td>0</td>\n",
              "      <td>None</td>\n",
              "    </tr>\n",
              "    <tr>\n",
              "      <th>399</th>\n",
              "      <td>49</td>\n",
              "      <td>36000</td>\n",
              "      <td>1</td>\n",
              "      <td>None</td>\n",
              "    </tr>\n",
              "  </tbody>\n",
              "</table>\n",
              "<p>400 rows × 4 columns</p>\n",
              "</div>"
            ],
            "text/plain": [
              "    Age EstimatedSalary Purchased geometry\n",
              "0    19           19000         0     None\n",
              "1    35           20000         0     None\n",
              "2    26           43000         0     None\n",
              "3    27           57000         0     None\n",
              "4    19           76000         0     None\n",
              "..   ..             ...       ...      ...\n",
              "395  46           41000         1     None\n",
              "396  51           23000         1     None\n",
              "397  50           20000         1     None\n",
              "398  36           33000         0     None\n",
              "399  49           36000         1     None\n",
              "\n",
              "[400 rows x 4 columns]"
            ]
          },
          "metadata": {},
          "execution_count": 4
        }
      ]
    },
    {
      "cell_type": "markdown",
      "metadata": {
        "id": "g7mTLD2Ckdfq"
      },
      "source": [
        "# Bước 2"
      ]
    },
    {
      "cell_type": "code",
      "metadata": {
        "id": "Q8rwedoFkfBW"
      },
      "source": [
        "# Chia tập dữ liệu \n",
        "X = data.iloc[:,[0,1]]\n",
        "y = data.iloc[:,[2]]"
      ],
      "execution_count": null,
      "outputs": []
    },
    {
      "cell_type": "code",
      "metadata": {
        "id": "S9wyl7QglKtM"
      },
      "source": [
        "# Chia làm 2 phần train và test\n",
        "from sklearn.model_selection import train_test_split\n",
        "\n",
        "X_train, X_test, y_train, y_test = train_test_split(X, y, test_size=0.2)"
      ],
      "execution_count": null,
      "outputs": []
    },
    {
      "cell_type": "code",
      "metadata": {
        "id": "dW0jGUKfle-J"
      },
      "source": [
        "# KFold Cross Validation K =5\n",
        "kf = KFold(n_splits=5, shuffle=True)"
      ],
      "execution_count": null,
      "outputs": []
    },
    {
      "cell_type": "markdown",
      "metadata": {
        "id": "Al4hWURumF7V"
      },
      "source": [
        "# Bước 3"
      ]
    },
    {
      "cell_type": "code",
      "metadata": {
        "id": "qBsceH6kmHyW"
      },
      "source": [
        "# Dùng Standard Scaler\n",
        "from sklearn.preprocessing import StandardScaler\n",
        "\n",
        "scaler = StandardScaler().fit(X_train)\n",
        "scaler_x = StandardScaler().fit(X_test)\n",
        "\n",
        "scaler_data= scaler.transform(X_train)\n",
        "scaler_data_test = scaler_x.transform(X_test)"
      ],
      "execution_count": null,
      "outputs": []
    },
    {
      "cell_type": "code",
      "metadata": {
        "colab": {
          "base_uri": "https://localhost:8080/"
        },
        "id": "zc-T9BNcod49",
        "outputId": "e2b40873-45db-4261-873e-68aad2b8994d"
      },
      "source": [
        "scaler_data"
      ],
      "execution_count": null,
      "outputs": [
        {
          "output_type": "execute_result",
          "data": {
            "text/plain": [
              "array([[ 2.37400473e-01,  2.17083053e+00],\n",
              "       [-4.36588196e-01, -5.37128047e-01],\n",
              "       [-1.11057687e+00, -1.57865057e+00],\n",
              "       [-3.40304101e-01, -7.75190339e-01],\n",
              "       [ 9.11389143e-01,  1.30785472e+00],\n",
              "       [ 7.18820952e-01,  1.84349487e+00],\n",
              "       [-1.30314506e+00, -4.18096901e-01],\n",
              "       [-1.30314506e+00, -1.10252599e+00],\n",
              "       [-2.44020005e-01, -8.94221485e-01],\n",
              "       [ 1.00767324e+00, -1.19179935e+00],\n",
              "       [-5.32872292e-01,  9.21003493e-01],\n",
              "       [ 1.00767324e+00,  6.23425628e-01],\n",
              "       [ 2.37400473e-01, -2.39550181e-01],\n",
              "       [ 1.39280962e+00,  1.33761250e+00],\n",
              "       [ 1.87423010e+00,  1.57567480e+00],\n",
              "       [-6.29156388e-01, -3.28823541e-01],\n",
              "       [-2.44020005e-01,  5.63910055e-01],\n",
              "       [ 8.15105047e-01,  1.47301043e-01],\n",
              "       [ 4.48322820e-02, -2.99065755e-01],\n",
              "       [ 1.41116378e-01,  5.80276837e-02],\n",
              "       [-7.25440483e-01, -5.96643620e-01],\n",
              "       [-7.25440483e-01, -1.60840836e+00],\n",
              "       [ 2.16308239e+00, -6.85916979e-01],\n",
              "       [ 3.33684569e-01,  5.80276837e-02],\n",
              "       [ 1.10395733e+00,  5.04394481e-01],\n",
              "       [ 1.20024143e+00, -7.45432552e-01],\n",
              "       [ 4.48322820e-02, -5.37128047e-01],\n",
              "       [-1.30314506e+00, -4.18096901e-01],\n",
              "       [-2.44020005e-01, -2.99065755e-01],\n",
              "       [ 3.33684569e-01, -5.07370260e-01],\n",
              "       [ 4.29968665e-01,  3.25847762e-01],\n",
              "       [-8.21724579e-01,  3.25847762e-01],\n",
              "       [-2.44020005e-01, -5.66885833e-01],\n",
              "       [-1.88084963e+00, -5.07370260e-01],\n",
              "       [-1.11057687e+00,  3.55605549e-01],\n",
              "       [ 1.39280962e+00, -1.42986164e+00],\n",
              "       [-1.78456554e+00,  4.74636695e-01],\n",
              "       [-1.11057687e+00, -1.54889279e+00],\n",
              "       [-1.88084963e+00, -7.45432552e-01],\n",
              "       [ 1.10395733e+00, -1.22155714e+00],\n",
              "       [ 1.39280962e+00,  6.23425628e-01],\n",
              "       [-1.68828144e+00, -5.96643620e-01],\n",
              "       [ 1.20024143e+00, -1.45961943e+00],\n",
              "       [-1.01429277e+00,  5.93667841e-01],\n",
              "       [-5.14518136e-02, -1.07276820e+00],\n",
              "       [-5.14518136e-02,  7.12698987e-01],\n",
              "       [-5.14518136e-02, -4.18096901e-01],\n",
              "       [ 1.41116378e-01,  8.01972347e-01],\n",
              "       [-1.11057687e+00, -7.75190339e-01],\n",
              "       [-7.25440483e-01,  1.96252602e+00],\n",
              "       [ 1.58537781e+00, -1.28107271e+00],\n",
              "       [-3.40304101e-01,  1.27809693e+00],\n",
              "       [ 2.06679829e+00, -1.19179935e+00],\n",
              "       [-1.78456554e+00, -1.42986164e+00],\n",
              "       [ 1.29652553e+00,  1.93276823e+00],\n",
              "       [ 2.37400473e-01,  1.12930800e+00],\n",
              "       [ 2.16308239e+00, -8.04948125e-01],\n",
              "       [-1.39942915e+00,  3.85363335e-01],\n",
              "       [ 1.58537781e+00,  2.82698972e-02],\n",
              "       [ 1.41116378e-01, -8.04948125e-01],\n",
              "       [ 6.22536856e-01,  2.08155717e+00],\n",
              "       [-5.32872292e-01, -1.51913500e+00],\n",
              "       [ 1.41116378e-01,  5.80276837e-02],\n",
              "       [-2.44020005e-01,  1.77058830e-01],\n",
              "       [-1.39942915e+00, -1.45961943e+00],\n",
              "       [-9.18008675e-01,  5.34152268e-01],\n",
              "       [ 8.15105047e-01,  2.96089976e-01],\n",
              "       [ 7.18820952e-01, -1.40010386e+00],\n",
              "       [-5.32872292e-01,  1.96252602e+00],\n",
              "       [ 1.58537781e+00,  1.15906578e+00],\n",
              "       [-6.29156388e-01, -3.12456758e-02],\n",
              "       [-1.30314506e+00, -1.48937722e+00],\n",
              "       [ 8.15105047e-01,  8.01972347e-01],\n",
              "       [ 4.29968665e-01, -4.77612474e-01],\n",
              "       [-5.14518136e-02,  2.36574403e-01],\n",
              "       [ 1.68166191e+00,  1.81373709e+00],\n",
              "       [-1.20686096e+00,  5.34152268e-01],\n",
              "       [ 1.00767324e+00, -1.07276820e+00],\n",
              "       [ 1.87423010e+00, -1.07276820e+00],\n",
              "       [ 9.11389143e-01, -5.96643620e-01],\n",
              "       [ 4.48322820e-02,  5.80276837e-02],\n",
              "       [ 4.29968665e-01, -1.20519035e-01],\n",
              "       [-1.01429277e+00,  6.23425628e-01],\n",
              "       [ 4.29968665e-01,  2.96089976e-01],\n",
              "       [-1.30314506e+00,  4.44878908e-01],\n",
              "       [ 1.77794600e+00,  1.90301045e+00],\n",
              "       [-1.47735909e-01, -4.47854687e-01],\n",
              "       [ 1.00767324e+00,  1.47301043e-01],\n",
              "       [ 1.10395733e+00, -8.94221485e-01],\n",
              "       [-6.29156388e-01, -1.04301042e+00],\n",
              "       [ 2.37400473e-01, -6.56159193e-01],\n",
              "       [-9.18008675e-01, -7.45432552e-01],\n",
              "       [ 4.48322820e-02,  5.80276837e-02],\n",
              "       [ 8.15105047e-01, -1.40010386e+00],\n",
              "       [-9.18008675e-01,  4.44878908e-01],\n",
              "       [-2.44020005e-01,  8.77854702e-02],\n",
              "       [ 3.33684569e-01,  8.77854702e-02],\n",
              "       [-1.11057687e+00, -1.60840836e+00],\n",
              "       [-5.14518136e-02, -3.58581328e-01],\n",
              "       [-1.01429277e+00,  2.02204159e+00],\n",
              "       [ 8.15105047e-01,  5.63910055e-01],\n",
              "       [-2.44020005e-01, -2.39550181e-01],\n",
              "       [ 3.33684569e-01, -1.16204156e+00],\n",
              "       [ 9.11389143e-01, -7.75190339e-01],\n",
              "       [-5.32872292e-01,  1.51615922e+00],\n",
              "       [-1.49571325e+00, -4.18096901e-01],\n",
              "       [ 1.00767324e+00,  2.05179938e+00],\n",
              "       [ 1.41116378e-01, -2.39550181e-01],\n",
              "       [-2.44020005e-01, -1.31083050e+00],\n",
              "       [-5.14518136e-02,  8.77854702e-02],\n",
              "       [ 2.37400473e-01, -2.69307968e-01],\n",
              "       [ 1.00767324e+00,  1.93276823e+00],\n",
              "       [-3.40304101e-01, -1.31083050e+00],\n",
              "       [ 1.20024143e+00, -9.83494844e-01],\n",
              "       [ 4.29968665e-01,  2.82698972e-02],\n",
              "       [-1.68828144e+00,  5.04394481e-01],\n",
              "       [-9.18008675e-01,  4.74636695e-01],\n",
              "       [ 3.33684569e-01,  8.77854702e-02],\n",
              "       [ 1.41116378e-01, -2.99065755e-01],\n",
              "       [-7.25440483e-01,  5.93667841e-01],\n",
              "       [ 4.29968665e-01,  1.17543257e-01],\n",
              "       [ 8.15105047e-01, -1.37034607e+00],\n",
              "       [ 2.37400473e-01,  1.77058830e-01],\n",
              "       [ 5.26252760e-01,  1.90301045e+00],\n",
              "       [-8.21724579e-01,  4.15121122e-01],\n",
              "       [-1.01429277e+00, -3.58581328e-01],\n",
              "       [-6.29156388e-01,  2.06816616e-01],\n",
              "       [-9.18008675e-01,  1.60543258e+00],\n",
              "       [-2.44020005e-01, -3.58581328e-01],\n",
              "       [ 1.10395733e+00, -9.83494844e-01],\n",
              "       [-1.88084963e+00,  3.85363335e-01],\n",
              "       [ 1.87423010e+00, -2.69307968e-01],\n",
              "       [ 9.11389143e-01,  2.23034610e+00],\n",
              "       [-3.40304101e-01, -7.75190339e-01],\n",
              "       [-2.44020005e-01,  5.80276837e-02],\n",
              "       [-1.49571325e+00,  3.55605549e-01],\n",
              "       [-2.44020005e-01,  2.36574403e-01],\n",
              "       [-1.47735909e-01, -1.07276820e+00],\n",
              "       [-1.20686096e+00, -1.40010386e+00],\n",
              "       [ 3.33684569e-01,  5.34152268e-01],\n",
              "       [-7.25440483e-01,  1.39712808e+00],\n",
              "       [-6.29156388e-01,  1.45664365e+00],\n",
              "       [ 1.97051420e+00, -6.56159193e-01],\n",
              "       [-9.18008675e-01, -1.10252599e+00],\n",
              "       [ 1.41116378e-01,  1.77058830e-01],\n",
              "       [-8.21724579e-01, -7.75190339e-01],\n",
              "       [ 2.37400473e-01, -3.58581328e-01],\n",
              "       [-1.47735909e-01,  1.69470594e+00],\n",
              "       [-1.47735909e-01, -5.66885833e-01],\n",
              "       [-5.32872292e-01,  5.04394481e-01],\n",
              "       [-5.14518136e-02, -2.09792395e-01],\n",
              "       [-7.25440483e-01, -2.09792395e-01],\n",
              "       [-2.44020005e-01, -4.77612474e-01],\n",
              "       [-5.14518136e-02,  2.28986167e+00],\n",
              "       [-4.36588196e-01, -1.48788933e-03],\n",
              "       [-2.44020005e-01, -1.45961943e+00],\n",
              "       [ 1.39280962e+00,  2.40889282e+00],\n",
              "       [ 5.26252760e-01,  1.27809693e+00],\n",
              "       [-1.20686096e+00, -1.07276820e+00],\n",
              "       [-1.20686096e+00,  6.23425628e-01],\n",
              "       [ 9.11389143e-01, -1.31083050e+00],\n",
              "       [ 2.37400473e-01, -3.58581328e-01],\n",
              "       [ 4.29968665e-01,  6.23425628e-01],\n",
              "       [ 1.97051420e+00,  7.72214560e-01],\n",
              "       [-1.01429277e+00, -4.47854687e-01],\n",
              "       [-2.44020005e-01, -9.23979271e-01],\n",
              "       [ 4.29968665e-01, -4.47854687e-01],\n",
              "       [ 2.37400473e-01,  5.80276837e-02],\n",
              "       [-1.30314506e+00, -3.28823541e-01],\n",
              "       [ 4.29968665e-01, -1.20519035e-01],\n",
              "       [-8.21724579e-01,  1.77058830e-01],\n",
              "       [-2.44020005e-01, -6.56159193e-01],\n",
              "       [-4.36588196e-01, -8.34705912e-01],\n",
              "       [ 1.97051420e+00, -1.37034607e+00],\n",
              "       [ 4.48322820e-02, -2.39550181e-01],\n",
              "       [ 1.97051420e+00, -9.23979271e-01],\n",
              "       [ 1.39280962e+00,  2.05179938e+00],\n",
              "       [-1.68828144e+00,  3.85363335e-01],\n",
              "       [-2.44020005e-01, -5.66885833e-01],\n",
              "       [-1.39942915e+00, -9.07612489e-02],\n",
              "       [ 2.06679829e+00,  2.06816616e-01],\n",
              "       [ 1.20024143e+00,  5.63910055e-01],\n",
              "       [ 7.18820952e-01, -1.10252599e+00],\n",
              "       [ 1.41116378e-01,  2.96089976e-01],\n",
              "       [-4.36588196e-01, -1.22155714e+00],\n",
              "       [ 2.37400473e-01, -3.58581328e-01],\n",
              "       [-1.11057687e+00, -1.01325263e+00],\n",
              "       [ 1.00767324e+00,  8.01972347e-01],\n",
              "       [-8.21724579e-01, -2.39550181e-01],\n",
              "       [ 2.06679829e+00,  2.20058831e+00],\n",
              "       [ 1.41116378e-01, -8.04948125e-01],\n",
              "       [ 1.00767324e+00, -8.34705912e-01],\n",
              "       [-1.78456554e+00, -1.31083050e+00],\n",
              "       [ 1.39280962e+00, -9.23979271e-01],\n",
              "       [-5.32872292e-01, -1.51913500e+00],\n",
              "       [ 6.22536856e-01, -8.94221485e-01],\n",
              "       [-2.44020005e-01, -2.69307968e-01],\n",
              "       [ 1.41116378e-01,  1.93276823e+00],\n",
              "       [-1.39942915e+00, -6.26401406e-01],\n",
              "       [-7.25440483e-01,  1.12930800e+00],\n",
              "       [ 4.48322820e-02, -1.20519035e-01],\n",
              "       [ 9.11389143e-01, -1.04301042e+00],\n",
              "       [-1.68828144e+00, -1.37034607e+00],\n",
              "       [-1.78456554e+00, -1.48937722e+00],\n",
              "       [-1.59199734e+00, -3.12456758e-02],\n",
              "       [ 8.15105047e-01, -8.34705912e-01],\n",
              "       [-1.68828144e+00,  1.47301043e-01],\n",
              "       [-2.44020005e-01,  8.31730133e-01],\n",
              "       [ 2.37400473e-01, -1.20519035e-01],\n",
              "       [-3.40304101e-01,  8.77854702e-02],\n",
              "       [-2.44020005e-01, -1.20519035e-01],\n",
              "       [ 1.41116378e-01,  1.57567480e+00],\n",
              "       [-2.44020005e-01, -1.37034607e+00],\n",
              "       [ 1.68166191e+00,  1.66494816e+00],\n",
              "       [ 4.29968665e-01,  2.37913503e+00],\n",
              "       [-1.11057687e+00,  3.25847762e-01],\n",
              "       [ 2.37400473e-01,  1.77058830e-01],\n",
              "       [-1.88084963e+00, -3.12456758e-02],\n",
              "       [ 8.15105047e-01,  1.42688586e+00],\n",
              "       [ 1.00767324e+00,  1.84349487e+00],\n",
              "       [ 3.33684569e-01, -2.99065755e-01],\n",
              "       [ 8.15105047e-01, -1.10252599e+00],\n",
              "       [ 9.11389143e-01, -6.56159193e-01],\n",
              "       [-1.49571325e+00, -1.51913500e+00],\n",
              "       [ 1.10395733e+00,  2.14107274e+00],\n",
              "       [ 2.06679829e+00, -8.04948125e-01],\n",
              "       [-1.78456554e+00,  2.82698972e-02],\n",
              "       [-9.18008675e-01, -2.99065755e-01],\n",
              "       [-5.14518136e-02, -4.77612474e-01],\n",
              "       [-1.39942915e+00, -1.22155714e+00],\n",
              "       [ 1.00767324e+00,  1.48640144e+00],\n",
              "       [-7.25440483e-01,  3.25847762e-01],\n",
              "       [-1.78456554e+00,  2.06816616e-01],\n",
              "       [-5.32872292e-01,  1.42688586e+00],\n",
              "       [-7.25440483e-01, -1.54889279e+00],\n",
              "       [-5.14518136e-02,  3.25847762e-01],\n",
              "       [ 1.97051420e+00,  9.50761279e-01],\n",
              "       [-5.14518136e-02,  2.96089976e-01],\n",
              "       [ 1.58537781e+00,  1.04003464e+00],\n",
              "       [ 1.10395733e+00, -1.22155714e+00],\n",
              "       [-4.36588196e-01,  2.37913503e+00],\n",
              "       [ 1.41116378e-01,  2.36574403e-01],\n",
              "       [-1.47735909e-01,  8.91245706e-01],\n",
              "       [ 4.29968665e-01,  3.25847762e-01],\n",
              "       [-1.78456554e+00, -1.28107271e+00],\n",
              "       [ 1.41116378e-01,  1.93276823e+00],\n",
              "       [ 4.29968665e-01,  1.77058830e-01],\n",
              "       [-1.11057687e+00, -1.10252599e+00],\n",
              "       [-1.11057687e+00, -5.07370260e-01],\n",
              "       [-5.14518136e-02,  5.80276837e-02],\n",
              "       [ 2.06679829e+00,  4.15121122e-01],\n",
              "       [ 4.29968665e-01,  1.15906578e+00],\n",
              "       [ 1.00767324e+00,  2.14107274e+00],\n",
              "       [-5.14518136e-02,  1.77058830e-01],\n",
              "       [-9.18008675e-01, -2.99065755e-01],\n",
              "       [-8.21724579e-01, -1.22155714e+00],\n",
              "       [ 9.11389143e-01, -1.16204156e+00],\n",
              "       [ 4.48322820e-02, -2.39550181e-01],\n",
              "       [-2.44020005e-01, -1.40010386e+00],\n",
              "       [-8.21724579e-01, -6.56159193e-01],\n",
              "       [-1.47735909e-01, -2.69307968e-01],\n",
              "       [-2.44020005e-01, -7.45432552e-01],\n",
              "       [-1.01429277e+00,  4.44878908e-01],\n",
              "       [ 2.06679829e+00,  5.63910055e-01],\n",
              "       [ 3.33684569e-01, -2.69307968e-01],\n",
              "       [ 7.18820952e-01, -1.28107271e+00],\n",
              "       [-1.47735909e-01, -5.07370260e-01],\n",
              "       [-1.01429277e+00, -3.28823541e-01],\n",
              "       [-5.14518136e-02,  3.25847762e-01],\n",
              "       [ 4.48322820e-02, -5.66885833e-01],\n",
              "       [ 3.33684569e-01, -7.15674766e-01],\n",
              "       [ 9.11389143e-01, -5.66885833e-01],\n",
              "       [ 2.16308239e+00,  9.80519066e-01],\n",
              "       [ 8.15105047e-01,  3.85363335e-01],\n",
              "       [-5.14518136e-02, -5.07370260e-01],\n",
              "       [-9.18008675e-01, -4.18096901e-01],\n",
              "       [-2.44020005e-01,  1.17543257e-01],\n",
              "       [ 1.48909372e+00,  3.85363335e-01],\n",
              "       [-1.30314506e+00, -1.37034607e+00],\n",
              "       [-9.18008675e-01,  2.96089976e-01],\n",
              "       [-4.36588196e-01,  1.30785472e+00],\n",
              "       [-1.01429277e+00, -1.13228378e+00],\n",
              "       [ 1.10395733e+00,  5.63910055e-01],\n",
              "       [ 2.37400473e-01,  8.77854702e-02],\n",
              "       [ 3.33684569e-01,  3.25847762e-01],\n",
              "       [-1.47735909e-01,  1.45664365e+00],\n",
              "       [-8.21724579e-01,  4.15121122e-01],\n",
              "       [-6.29156388e-01,  5.80276837e-02],\n",
              "       [ 1.10395733e+00,  5.93667841e-01],\n",
              "       [-1.01429277e+00, -1.45961943e+00],\n",
              "       [ 4.29968665e-01, -4.47854687e-01],\n",
              "       [ 1.29652553e+00, -1.37034607e+00],\n",
              "       [-1.59199734e+00,  8.77854702e-02],\n",
              "       [ 4.48322820e-02, -4.18096901e-01],\n",
              "       [-4.36588196e-01, -2.69307968e-01],\n",
              "       [-1.11057687e+00,  8.77854702e-02],\n",
              "       [-1.01429277e+00,  8.01972347e-01],\n",
              "       [-8.21724579e-01,  2.34937725e+00],\n",
              "       [ 3.33684569e-01,  8.77854702e-02],\n",
              "       [-1.01429277e+00, -3.28823541e-01],\n",
              "       [-1.20686096e+00,  2.96089976e-01],\n",
              "       [-1.39942915e+00, -1.80034608e-01],\n",
              "       [-4.36588196e-01, -1.13228378e+00],\n",
              "       [-1.11057687e+00,  1.45664365e+00],\n",
              "       [-6.29156388e-01,  1.47301043e-01],\n",
              "       [ 1.10395733e+00, -1.20519035e-01],\n",
              "       [ 1.00767324e+00, -1.16204156e+00],\n",
              "       [ 1.68166191e+00, -8.94221485e-01],\n",
              "       [-8.21724579e-01, -7.75190339e-01],\n",
              "       [-5.14518136e-02,  2.23034610e+00],\n",
              "       [-6.29156388e-01,  5.93667841e-01],\n",
              "       [ 9.11389143e-01, -1.45961943e+00],\n",
              "       [-7.25440483e-01,  5.34152268e-01],\n",
              "       [ 1.97051420e+00,  2.23034610e+00],\n",
              "       [-2.44020005e-01,  6.53183414e-01],\n",
              "       [-1.11057687e+00,  5.04394481e-01],\n",
              "       [ 9.11389143e-01,  1.12930800e+00],\n",
              "       [ 3.33684569e-01,  2.96089976e-01],\n",
              "       [ 2.16308239e+00,  1.15906578e+00],\n",
              "       [ 1.00767324e+00, -1.01325263e+00]])"
            ]
          },
          "metadata": {},
          "execution_count": 82
        }
      ]
    },
    {
      "cell_type": "markdown",
      "metadata": {
        "id": "JIFMFZGDoqIj"
      },
      "source": [
        "# Bước 4"
      ]
    },
    {
      "cell_type": "markdown",
      "metadata": {
        "id": "U7E2lMQcqEn3"
      },
      "source": [
        "## Logistic Regression"
      ]
    },
    {
      "cell_type": "code",
      "metadata": {
        "id": "0Uha-lP0o7j6"
      },
      "source": [
        "from sklearn.linear_model import LogisticRegression\n",
        "from sklearn.metrics import accuracy_score\n",
        "\n",
        "log_reg = LogisticRegression()"
      ],
      "execution_count": null,
      "outputs": []
    },
    {
      "cell_type": "code",
      "metadata": {
        "colab": {
          "base_uri": "https://localhost:8080/"
        },
        "id": "PfHBxkUcpBoA",
        "outputId": "d7be5eaf-fd1e-438c-ffaf-c1ed3e005941"
      },
      "source": [
        "log_reg.fit(scaler_data,y_train)\n",
        "y_pred = log_reg.predict(scaler_data_test)\n",
        "acc_logic = accuracy_score(y_test, y_pred)"
      ],
      "execution_count": null,
      "outputs": [
        {
          "output_type": "stream",
          "name": "stderr",
          "text": [
            "/usr/local/lib/python3.7/dist-packages/sklearn/utils/validation.py:760: DataConversionWarning: A column-vector y was passed when a 1d array was expected. Please change the shape of y to (n_samples, ), for example using ravel().\n",
            "  y = column_or_1d(y, warn=True)\n"
          ]
        }
      ]
    },
    {
      "cell_type": "code",
      "metadata": {
        "colab": {
          "base_uri": "https://localhost:8080/"
        },
        "id": "_uq29IZnor4J",
        "outputId": "0fa459d6-68d5-41d0-af3d-77292f6c7a5c"
      },
      "source": [
        " # Logistic Regression Kfold\n",
        "acc_l = []\n",
        "for train_index, test_index in kf.split(scaler_data ,y):\n",
        "  X_train, X_test = scaler_data[train_index], scaler_data[test_index]\n",
        "  y_train, y_test = y.iloc[train_index], y.iloc[test_index]\n",
        " \n",
        "  log_reg.fit(X_train,y_train)\n",
        "  y_pred = log_reg.predict(X_test)\n",
        "  acc_l.append(accuracy_score(y_test, y_pred))"
      ],
      "execution_count": null,
      "outputs": [
        {
          "output_type": "stream",
          "name": "stderr",
          "text": [
            "/usr/local/lib/python3.7/dist-packages/sklearn/utils/validation.py:760: DataConversionWarning: A column-vector y was passed when a 1d array was expected. Please change the shape of y to (n_samples, ), for example using ravel().\n",
            "  y = column_or_1d(y, warn=True)\n",
            "/usr/local/lib/python3.7/dist-packages/sklearn/utils/validation.py:760: DataConversionWarning: A column-vector y was passed when a 1d array was expected. Please change the shape of y to (n_samples, ), for example using ravel().\n",
            "  y = column_or_1d(y, warn=True)\n",
            "/usr/local/lib/python3.7/dist-packages/sklearn/utils/validation.py:760: DataConversionWarning: A column-vector y was passed when a 1d array was expected. Please change the shape of y to (n_samples, ), for example using ravel().\n",
            "  y = column_or_1d(y, warn=True)\n",
            "/usr/local/lib/python3.7/dist-packages/sklearn/utils/validation.py:760: DataConversionWarning: A column-vector y was passed when a 1d array was expected. Please change the shape of y to (n_samples, ), for example using ravel().\n",
            "  y = column_or_1d(y, warn=True)\n",
            "/usr/local/lib/python3.7/dist-packages/sklearn/utils/validation.py:760: DataConversionWarning: A column-vector y was passed when a 1d array was expected. Please change the shape of y to (n_samples, ), for example using ravel().\n",
            "  y = column_or_1d(y, warn=True)\n"
          ]
        }
      ]
    },
    {
      "cell_type": "markdown",
      "metadata": {
        "id": "P9aozzOWqLeu"
      },
      "source": [
        "## SVM"
      ]
    },
    {
      "cell_type": "code",
      "metadata": {
        "id": "RciVger6qCvQ"
      },
      "source": [
        " from sklearn import svm"
      ],
      "execution_count": null,
      "outputs": []
    },
    {
      "cell_type": "code",
      "metadata": {
        "id": "DAqmMMm9qP_D"
      },
      "source": [
        "# SVM thường\n",
        "clf = svm.SVC()"
      ],
      "execution_count": null,
      "outputs": []
    },
    {
      "cell_type": "code",
      "metadata": {
        "colab": {
          "base_uri": "https://localhost:8080/"
        },
        "id": "KiskpN72p-OG",
        "outputId": "3b81b107-cf62-4716-c3c0-d087fb32e975"
      },
      "source": [
        "clf.fit(scaler_data,y_train)\n",
        "y_pred = clf.predict(scaler_data_test)\n",
        "acc_svm = accuracy_score(y_test, y_pred)"
      ],
      "execution_count": null,
      "outputs": [
        {
          "output_type": "stream",
          "name": "stderr",
          "text": [
            "/usr/local/lib/python3.7/dist-packages/sklearn/utils/validation.py:760: DataConversionWarning: A column-vector y was passed when a 1d array was expected. Please change the shape of y to (n_samples, ), for example using ravel().\n",
            "  y = column_or_1d(y, warn=True)\n"
          ]
        }
      ]
    },
    {
      "cell_type": "code",
      "metadata": {
        "colab": {
          "base_uri": "https://localhost:8080/"
        },
        "id": "B4uCPNpbqdcz",
        "outputId": "42fb8ae1-9de6-4dc6-eead-d687b7d0c5b6"
      },
      "source": [
        "# SVM vs Kfold\n",
        "acc_svm = []\n",
        "for train_index, test_index in kf.split(scaler_data ,y):\n",
        "  X_train, X_test = scaler_data[train_index], scaler_data[test_index]\n",
        "  y_train, y_test = y.iloc[train_index], y.iloc[test_index]\n",
        "\n",
        "  clf.fit(X_train,y_train)\n",
        "  y_pred = clf.predict(X_test)\n",
        "  acc_svm.append(accuracy_score(y_test, y_pred))"
      ],
      "execution_count": null,
      "outputs": [
        {
          "output_type": "stream",
          "name": "stderr",
          "text": [
            "/usr/local/lib/python3.7/dist-packages/sklearn/utils/validation.py:760: DataConversionWarning: A column-vector y was passed when a 1d array was expected. Please change the shape of y to (n_samples, ), for example using ravel().\n",
            "  y = column_or_1d(y, warn=True)\n",
            "/usr/local/lib/python3.7/dist-packages/sklearn/utils/validation.py:760: DataConversionWarning: A column-vector y was passed when a 1d array was expected. Please change the shape of y to (n_samples, ), for example using ravel().\n",
            "  y = column_or_1d(y, warn=True)\n",
            "/usr/local/lib/python3.7/dist-packages/sklearn/utils/validation.py:760: DataConversionWarning: A column-vector y was passed when a 1d array was expected. Please change the shape of y to (n_samples, ), for example using ravel().\n",
            "  y = column_or_1d(y, warn=True)\n",
            "/usr/local/lib/python3.7/dist-packages/sklearn/utils/validation.py:760: DataConversionWarning: A column-vector y was passed when a 1d array was expected. Please change the shape of y to (n_samples, ), for example using ravel().\n",
            "  y = column_or_1d(y, warn=True)\n",
            "/usr/local/lib/python3.7/dist-packages/sklearn/utils/validation.py:760: DataConversionWarning: A column-vector y was passed when a 1d array was expected. Please change the shape of y to (n_samples, ), for example using ravel().\n",
            "  y = column_or_1d(y, warn=True)\n"
          ]
        }
      ]
    },
    {
      "cell_type": "markdown",
      "metadata": {
        "id": "IxEwsuYePapk"
      },
      "source": [
        "## Kernal SVM"
      ]
    },
    {
      "cell_type": "code",
      "metadata": {
        "id": "mtlAmG7bOc-D"
      },
      "source": [
        "# Kernal rbf\n",
        "rbf_svc = svm.SVC(kernel='rbf')"
      ],
      "execution_count": null,
      "outputs": []
    },
    {
      "cell_type": "code",
      "metadata": {
        "colab": {
          "base_uri": "https://localhost:8080/"
        },
        "id": "T01PSXaRrZvh",
        "outputId": "c78d0d7c-8ef2-48a3-c13e-fa70668aebcb"
      },
      "source": [
        "rbf_svc.fit(scaler_data,y_train)\n",
        "y_pred = rbf_svc.predict(scaler_data_test)\n",
        "acc_svm_kernal = accuracy_score(y_test, y_pred)"
      ],
      "execution_count": null,
      "outputs": [
        {
          "output_type": "stream",
          "name": "stderr",
          "text": [
            "/usr/local/lib/python3.7/dist-packages/sklearn/utils/validation.py:760: DataConversionWarning: A column-vector y was passed when a 1d array was expected. Please change the shape of y to (n_samples, ), for example using ravel().\n",
            "  y = column_or_1d(y, warn=True)\n"
          ]
        }
      ]
    },
    {
      "cell_type": "code",
      "metadata": {
        "colab": {
          "base_uri": "https://localhost:8080/"
        },
        "id": "dkK5otRdOo8M",
        "outputId": "186ef6bd-3316-4343-ace6-8bbbce6ce63f"
      },
      "source": [
        "# Kernal svm vs Kflod\n",
        "acc_svm_kernal = []\n",
        "for train_index, test_index in kf.split(scaler_data ,y):\n",
        "  X_train, X_test = scaler_data[train_index], scaler_data[test_index]\n",
        "  y_train, y_test = y.iloc[train_index], y.iloc[test_index]\n",
        "\n",
        "  rbf_svc.fit(X_train,y_train)\n",
        "  y_pred = rbf_svc.predict(X_test)\n",
        "  acc_svm_kernal.append(accuracy_score(y_test, y_pred))"
      ],
      "execution_count": null,
      "outputs": [
        {
          "output_type": "stream",
          "name": "stderr",
          "text": [
            "/usr/local/lib/python3.7/dist-packages/sklearn/utils/validation.py:760: DataConversionWarning: A column-vector y was passed when a 1d array was expected. Please change the shape of y to (n_samples, ), for example using ravel().\n",
            "  y = column_or_1d(y, warn=True)\n",
            "/usr/local/lib/python3.7/dist-packages/sklearn/utils/validation.py:760: DataConversionWarning: A column-vector y was passed when a 1d array was expected. Please change the shape of y to (n_samples, ), for example using ravel().\n",
            "  y = column_or_1d(y, warn=True)\n",
            "/usr/local/lib/python3.7/dist-packages/sklearn/utils/validation.py:760: DataConversionWarning: A column-vector y was passed when a 1d array was expected. Please change the shape of y to (n_samples, ), for example using ravel().\n",
            "  y = column_or_1d(y, warn=True)\n",
            "/usr/local/lib/python3.7/dist-packages/sklearn/utils/validation.py:760: DataConversionWarning: A column-vector y was passed when a 1d array was expected. Please change the shape of y to (n_samples, ), for example using ravel().\n",
            "  y = column_or_1d(y, warn=True)\n",
            "/usr/local/lib/python3.7/dist-packages/sklearn/utils/validation.py:760: DataConversionWarning: A column-vector y was passed when a 1d array was expected. Please change the shape of y to (n_samples, ), for example using ravel().\n",
            "  y = column_or_1d(y, warn=True)\n"
          ]
        }
      ]
    },
    {
      "cell_type": "markdown",
      "metadata": {
        "id": "i695kcoergEF"
      },
      "source": [
        "## Decision Tree"
      ]
    },
    {
      "cell_type": "code",
      "metadata": {
        "id": "Er1BXqsJriHO"
      },
      "source": [
        "from sklearn import tree"
      ],
      "execution_count": null,
      "outputs": []
    },
    {
      "cell_type": "code",
      "metadata": {
        "id": "AKwMoF07rjXB"
      },
      "source": [
        "clf_t = tree.DecisionTreeClassifier()\n"
      ],
      "execution_count": null,
      "outputs": []
    },
    {
      "cell_type": "code",
      "metadata": {
        "id": "SCdRaAxbtkon"
      },
      "source": [
        "clf_t.fit(scaler_data,y_train)\n",
        "y_pred = clf_t.predict(scaler_data_test)\n",
        "acc_dt = accuracy_score(y_test, y_pred)"
      ],
      "execution_count": null,
      "outputs": []
    },
    {
      "cell_type": "code",
      "metadata": {
        "id": "d_T9oDOfrnZP"
      },
      "source": [
        "# Decision Tree vs Kfold\n",
        "acc_t = []\n",
        "for train_index, test_index in kf.split(scaler_data ,y):\n",
        "  X_train, X_test = scaler_data[train_index], scaler_data[test_index]\n",
        "  y_train, y_test = y.iloc[train_index], y.iloc[test_index]\n",
        "\n",
        "  clf_t.fit(X_train,y_train)\n",
        "  y_pred = clf_t.predict(X_test)\n",
        "  acc_t.append(accuracy_score(y_test, y_pred))"
      ],
      "execution_count": null,
      "outputs": []
    },
    {
      "cell_type": "markdown",
      "metadata": {
        "id": "kQI_zhSmFiEH"
      },
      "source": [
        "## Navie Bayes"
      ]
    },
    {
      "cell_type": "code",
      "metadata": {
        "id": "i67PEhpuFlfe"
      },
      "source": [
        "from sklearn.naive_bayes import GaussianNB"
      ],
      "execution_count": null,
      "outputs": []
    },
    {
      "cell_type": "code",
      "metadata": {
        "id": "-EdlIenHFskh"
      },
      "source": [
        "gnb = GaussianNB()"
      ],
      "execution_count": null,
      "outputs": []
    },
    {
      "cell_type": "code",
      "metadata": {
        "colab": {
          "base_uri": "https://localhost:8080/"
        },
        "id": "6M082ua5srgG",
        "outputId": "6eb0d67c-b9cc-4874-d721-ce4f586a5447"
      },
      "source": [
        "gnb.fit(scaler_data,y_train)\n",
        "y_pred = gnb.predict(scaler_data_test)\n",
        "acc_nv = accuracy_score(y_test, y_pred)"
      ],
      "execution_count": null,
      "outputs": [
        {
          "output_type": "stream",
          "name": "stderr",
          "text": [
            "/usr/local/lib/python3.7/dist-packages/sklearn/naive_bayes.py:206: DataConversionWarning: A column-vector y was passed when a 1d array was expected. Please change the shape of y to (n_samples, ), for example using ravel().\n",
            "  y = column_or_1d(y, warn=True)\n"
          ]
        }
      ]
    },
    {
      "cell_type": "code",
      "metadata": {
        "colab": {
          "base_uri": "https://localhost:8080/"
        },
        "id": "u5QF-HoPFoMs",
        "outputId": "d48572bc-d937-488a-b6c1-ae55adf9a9b5"
      },
      "source": [
        "# Navie Bayes vs Kfold\n",
        "acc_nv = []\n",
        "for train_index, test_index in kf.split(scaler_data ,y):\n",
        "  X_train, X_test = scaler_data[train_index], scaler_data[test_index]\n",
        "  y_train, y_test = y.iloc[train_index], y.iloc[test_index]\n",
        "\n",
        "  gnb.fit(X_train,y_train)\n",
        "  y_pred = gnb.predict(X_test)\n",
        "  acc_nv.append(accuracy_score(y_test, y_pred))"
      ],
      "execution_count": null,
      "outputs": [
        {
          "output_type": "stream",
          "name": "stderr",
          "text": [
            "/usr/local/lib/python3.7/dist-packages/sklearn/naive_bayes.py:206: DataConversionWarning: A column-vector y was passed when a 1d array was expected. Please change the shape of y to (n_samples, ), for example using ravel().\n",
            "  y = column_or_1d(y, warn=True)\n",
            "/usr/local/lib/python3.7/dist-packages/sklearn/naive_bayes.py:206: DataConversionWarning: A column-vector y was passed when a 1d array was expected. Please change the shape of y to (n_samples, ), for example using ravel().\n",
            "  y = column_or_1d(y, warn=True)\n",
            "/usr/local/lib/python3.7/dist-packages/sklearn/naive_bayes.py:206: DataConversionWarning: A column-vector y was passed when a 1d array was expected. Please change the shape of y to (n_samples, ), for example using ravel().\n",
            "  y = column_or_1d(y, warn=True)\n",
            "/usr/local/lib/python3.7/dist-packages/sklearn/naive_bayes.py:206: DataConversionWarning: A column-vector y was passed when a 1d array was expected. Please change the shape of y to (n_samples, ), for example using ravel().\n",
            "  y = column_or_1d(y, warn=True)\n",
            "/usr/local/lib/python3.7/dist-packages/sklearn/naive_bayes.py:206: DataConversionWarning: A column-vector y was passed when a 1d array was expected. Please change the shape of y to (n_samples, ), for example using ravel().\n",
            "  y = column_or_1d(y, warn=True)\n"
          ]
        }
      ]
    },
    {
      "cell_type": "markdown",
      "metadata": {
        "id": "iv1FAV1uJP-R"
      },
      "source": [
        "## Random Forest"
      ]
    },
    {
      "cell_type": "code",
      "metadata": {
        "id": "iQARkPjPG7Ue"
      },
      "source": [
        "from sklearn.ensemble import RandomForestClassifier"
      ],
      "execution_count": null,
      "outputs": []
    },
    {
      "cell_type": "code",
      "metadata": {
        "id": "5oNl54zhJVuz"
      },
      "source": [
        "clf_rf = RandomForestClassifier(max_depth=2, random_state=0)"
      ],
      "execution_count": null,
      "outputs": []
    },
    {
      "cell_type": "code",
      "metadata": {
        "colab": {
          "base_uri": "https://localhost:8080/"
        },
        "id": "ST22BnsCuWh-",
        "outputId": "2441abd1-27df-4a5a-dac5-1c74b0939730"
      },
      "source": [
        "clf_rf.fit(scaler_data,y_train)\n",
        "y_pred = clf_rf.predict(scaler_data_test)\n",
        "acc_rf= accuracy_score(y_test, y_pred)"
      ],
      "execution_count": null,
      "outputs": [
        {
          "output_type": "stream",
          "name": "stderr",
          "text": [
            "/usr/local/lib/python3.7/dist-packages/ipykernel_launcher.py:1: DataConversionWarning: A column-vector y was passed when a 1d array was expected. Please change the shape of y to (n_samples,), for example using ravel().\n",
            "  \"\"\"Entry point for launching an IPython kernel.\n"
          ]
        }
      ]
    },
    {
      "cell_type": "code",
      "metadata": {
        "colab": {
          "base_uri": "https://localhost:8080/"
        },
        "id": "QJm7f9_YJuTM",
        "outputId": "bcccb0a6-5271-4e42-fcce-9ec941c88b45"
      },
      "source": [
        "acc_rf = []\n",
        "for train_index, test_index in kf.split(scaler_data ,y):\n",
        "  X_train, X_test = scaler_data[train_index], scaler_data[test_index]\n",
        "  y_train, y_test = y.iloc[train_index], y.iloc[test_index]\n",
        "\n",
        "  clf_rf.fit(X_train,y_train)\n",
        "  y_pred = clf_rf.predict(X_test)\n",
        "  acc_rf.append(accuracy_score(y_test, y_pred))"
      ],
      "execution_count": null,
      "outputs": [
        {
          "output_type": "stream",
          "name": "stderr",
          "text": [
            "/usr/local/lib/python3.7/dist-packages/ipykernel_launcher.py:6: DataConversionWarning: A column-vector y was passed when a 1d array was expected. Please change the shape of y to (n_samples,), for example using ravel().\n",
            "  \n",
            "/usr/local/lib/python3.7/dist-packages/ipykernel_launcher.py:6: DataConversionWarning: A column-vector y was passed when a 1d array was expected. Please change the shape of y to (n_samples,), for example using ravel().\n",
            "  \n",
            "/usr/local/lib/python3.7/dist-packages/ipykernel_launcher.py:6: DataConversionWarning: A column-vector y was passed when a 1d array was expected. Please change the shape of y to (n_samples,), for example using ravel().\n",
            "  \n",
            "/usr/local/lib/python3.7/dist-packages/ipykernel_launcher.py:6: DataConversionWarning: A column-vector y was passed when a 1d array was expected. Please change the shape of y to (n_samples,), for example using ravel().\n",
            "  \n",
            "/usr/local/lib/python3.7/dist-packages/ipykernel_launcher.py:6: DataConversionWarning: A column-vector y was passed when a 1d array was expected. Please change the shape of y to (n_samples,), for example using ravel().\n",
            "  \n"
          ]
        }
      ]
    },
    {
      "cell_type": "markdown",
      "metadata": {
        "id": "LjrdHvH6Pj_P"
      },
      "source": [
        "## KNN"
      ]
    },
    {
      "cell_type": "code",
      "metadata": {
        "id": "gtlbYc9APl-k"
      },
      "source": [
        " from sklearn.neighbors import KNeighborsClassifier"
      ],
      "execution_count": null,
      "outputs": []
    },
    {
      "cell_type": "code",
      "metadata": {
        "id": "bi89jJw1Pm-H"
      },
      "source": [
        "neigh = KNeighborsClassifier(n_neighbors=3) # 3 cụm"
      ],
      "execution_count": null,
      "outputs": []
    },
    {
      "cell_type": "code",
      "metadata": {
        "colab": {
          "base_uri": "https://localhost:8080/"
        },
        "id": "g4Y_Gfr-sFYF",
        "outputId": "622c075d-dba7-4e2f-ae2d-ea776bc6b641"
      },
      "source": [
        "neigh.fit(scaler_data,y_train)\n",
        "y_pred = neigh.predict(scaler_data_test)\n",
        "acc_knn = accuracy_score(y_test, y_pred)"
      ],
      "execution_count": null,
      "outputs": [
        {
          "output_type": "stream",
          "name": "stderr",
          "text": [
            "/usr/local/lib/python3.7/dist-packages/ipykernel_launcher.py:1: DataConversionWarning: A column-vector y was passed when a 1d array was expected. Please change the shape of y to (n_samples, ), for example using ravel().\n",
            "  \"\"\"Entry point for launching an IPython kernel.\n"
          ]
        }
      ]
    },
    {
      "cell_type": "code",
      "metadata": {
        "colab": {
          "base_uri": "https://localhost:8080/"
        },
        "id": "3uIgduXsPvRg",
        "outputId": "e321e52a-bf81-461d-f191-82b6a777db29"
      },
      "source": [
        "# Knn vs Kfold\n",
        "acc_knn = []\n",
        "for train_index, test_index in kf.split(scaler_data ,y):\n",
        "  X_train, X_test = scaler_data[train_index], scaler_data[test_index]\n",
        "  y_train, y_test = y.iloc[train_index], y.iloc[test_index]\n",
        "\n",
        "  neigh.fit(X_train,y_train)\n",
        "  y_pred = neigh.predict(X_test)\n",
        "  acc_knn.append(accuracy_score(y_test, y_pred))"
      ],
      "execution_count": null,
      "outputs": [
        {
          "output_type": "stream",
          "name": "stderr",
          "text": [
            "/usr/local/lib/python3.7/dist-packages/ipykernel_launcher.py:6: DataConversionWarning: A column-vector y was passed when a 1d array was expected. Please change the shape of y to (n_samples, ), for example using ravel().\n",
            "  \n",
            "/usr/local/lib/python3.7/dist-packages/ipykernel_launcher.py:6: DataConversionWarning: A column-vector y was passed when a 1d array was expected. Please change the shape of y to (n_samples, ), for example using ravel().\n",
            "  \n",
            "/usr/local/lib/python3.7/dist-packages/ipykernel_launcher.py:6: DataConversionWarning: A column-vector y was passed when a 1d array was expected. Please change the shape of y to (n_samples, ), for example using ravel().\n",
            "  \n",
            "/usr/local/lib/python3.7/dist-packages/ipykernel_launcher.py:6: DataConversionWarning: A column-vector y was passed when a 1d array was expected. Please change the shape of y to (n_samples, ), for example using ravel().\n",
            "  \n",
            "/usr/local/lib/python3.7/dist-packages/ipykernel_launcher.py:6: DataConversionWarning: A column-vector y was passed when a 1d array was expected. Please change the shape of y to (n_samples, ), for example using ravel().\n",
            "  \n"
          ]
        }
      ]
    },
    {
      "cell_type": "markdown",
      "metadata": {
        "id": "CpcgP_5dQNBq"
      },
      "source": [
        "# Bước 5"
      ]
    },
    {
      "cell_type": "markdown",
      "metadata": {
        "id": "75Iyf8YDpfIu"
      },
      "source": [
        "## Accuracy Kfold"
      ]
    },
    {
      "cell_type": "code",
      "metadata": {
        "colab": {
          "base_uri": "https://localhost:8080/"
        },
        "id": "DIMRzlrFpHWF",
        "outputId": "08157322-e936-415a-85db-51b7c883323b"
      },
      "source": [
        "acr_avg = sum(acc_l)/len(acc_l)\n",
        "print(\"Accuracy trung bình logistic regression là:  \",round(acr_avg*100,2))"
      ],
      "execution_count": null,
      "outputs": [
        {
          "output_type": "stream",
          "name": "stdout",
          "text": [
            "Accuracy trung bình logistic regression là:   83.75\n"
          ]
        }
      ]
    },
    {
      "cell_type": "code",
      "metadata": {
        "colab": {
          "base_uri": "https://localhost:8080/"
        },
        "id": "oqs0GdJHqx2e",
        "outputId": "40a20e78-4af9-46d5-dbff-c18b3385b251"
      },
      "source": [
        "acr_avg = sum(acc_svm)/len(acc_svm)\n",
        "print(\"Accuracy trung bình svm là:  \",round(acr_avg*100,2))"
      ],
      "execution_count": null,
      "outputs": [
        {
          "output_type": "stream",
          "name": "stdout",
          "text": [
            "Accuracy trung bình svm là:   91.0\n"
          ]
        }
      ]
    },
    {
      "cell_type": "code",
      "metadata": {
        "colab": {
          "base_uri": "https://localhost:8080/"
        },
        "id": "5kFy_SBtO-zn",
        "outputId": "64798172-95b2-45ed-be4b-a5e1d1408172"
      },
      "source": [
        "acr_avg = sum(acc_svm_kernal)/len(acc_svm_kernal)\n",
        "print(\"Accuracy trung bình svm kernal là:  \",round(acr_avg*100,2))"
      ],
      "execution_count": null,
      "outputs": [
        {
          "output_type": "stream",
          "name": "stdout",
          "text": [
            "Accuracy trung bình svm kernal là:   91.5\n"
          ]
        }
      ]
    },
    {
      "cell_type": "code",
      "metadata": {
        "colab": {
          "base_uri": "https://localhost:8080/"
        },
        "id": "s3YXk8dssT-E",
        "outputId": "43cb6118-4bd4-42ca-e4fb-eac830b4d258"
      },
      "source": [
        "acr_avg = sum(acc_t)/len(acc_t)\n",
        "print(\"Accuracy trung bình decision tree là:  \",round(acr_avg*100,2))"
      ],
      "execution_count": null,
      "outputs": [
        {
          "output_type": "stream",
          "name": "stdout",
          "text": [
            "Accuracy trung bình decision tree là:   85.0\n"
          ]
        }
      ]
    },
    {
      "cell_type": "code",
      "metadata": {
        "colab": {
          "base_uri": "https://localhost:8080/"
        },
        "id": "U7QTec-nF0m_",
        "outputId": "9e17ceae-19cc-4aab-8032-48bce0d79803"
      },
      "source": [
        "acr_avg = sum(acc_nv)/len(acc_nv)\n",
        "print(\"Accuracy trung bình navie bayes là:  \",round(acr_avg*100,2))"
      ],
      "execution_count": null,
      "outputs": [
        {
          "output_type": "stream",
          "name": "stdout",
          "text": [
            "Accuracy trung bình navie bayes là:   88.25\n"
          ]
        }
      ]
    },
    {
      "cell_type": "code",
      "metadata": {
        "colab": {
          "base_uri": "https://localhost:8080/"
        },
        "id": "2on9TdQuJ1f7",
        "outputId": "4c83a68f-a966-40e8-d42f-37c2d805a06b"
      },
      "source": [
        "acr_avg = sum(acc_rf)/len(acc_rf)\n",
        "print(\"Accuracy trung bình random forest là:  \",round(acr_avg*100,2))"
      ],
      "execution_count": null,
      "outputs": [
        {
          "output_type": "stream",
          "name": "stdout",
          "text": [
            "Accuracy trung bình random forest là:   91.25\n"
          ]
        }
      ]
    },
    {
      "cell_type": "code",
      "metadata": {
        "colab": {
          "base_uri": "https://localhost:8080/"
        },
        "id": "6i7R387GP5S4",
        "outputId": "26395ff7-da56-421f-e5fb-023329268afd"
      },
      "source": [
        "acr_avg = sum(acc_knn)/len(acc_knn)\n",
        "print(\"Accuracy trung bình knn là:  \",round(acr_avg*100,2))"
      ],
      "execution_count": null,
      "outputs": [
        {
          "output_type": "stream",
          "name": "stdout",
          "text": [
            "Accuracy trung bình knn là:   89.75\n"
          ]
        }
      ]
    },
    {
      "cell_type": "markdown",
      "metadata": {
        "id": "JuoufRxIpjcC"
      },
      "source": [
        "## Accuracy thường"
      ]
    },
    {
      "cell_type": "code",
      "metadata": {
        "colab": {
          "base_uri": "https://localhost:8080/"
        },
        "id": "v1GkW7-WpmTW",
        "outputId": "9de7711a-6a8e-461a-c01c-70b9ce1da468"
      },
      "source": [
        "print(\"Accuracy  logistic regression là:  \",round(acc_logic*100,2))"
      ],
      "execution_count": null,
      "outputs": [
        {
          "output_type": "stream",
          "name": "stdout",
          "text": [
            "Accuracy  logistic regression là:   82.5\n"
          ]
        }
      ]
    },
    {
      "cell_type": "code",
      "metadata": {
        "colab": {
          "base_uri": "https://localhost:8080/"
        },
        "id": "Y1UXWeKDqS-E",
        "outputId": "5377e12f-400d-41a6-e95f-071fe3dd830f"
      },
      "source": [
        "print(\"Accuracy  svm là:  \",round(acc_svm*100,2))"
      ],
      "execution_count": null,
      "outputs": [
        {
          "output_type": "stream",
          "name": "stdout",
          "text": [
            "Accuracy  svm là:   82.5\n"
          ]
        }
      ]
    },
    {
      "cell_type": "code",
      "metadata": {
        "colab": {
          "base_uri": "https://localhost:8080/"
        },
        "id": "tAV0M7JernsX",
        "outputId": "9b280917-016c-42f2-a8df-012e50d39e06"
      },
      "source": [
        "print(\"Accuracy  svm kernal là:  \",round(acc_svm_kernal*100,2))"
      ],
      "execution_count": null,
      "outputs": [
        {
          "output_type": "stream",
          "name": "stdout",
          "text": [
            "Accuracy  svm kernal là:   85.0\n"
          ]
        }
      ]
    },
    {
      "cell_type": "code",
      "metadata": {
        "colab": {
          "base_uri": "https://localhost:8080/"
        },
        "id": "jQBSfm5psVdP",
        "outputId": "37ad8cc7-3c6c-4e2f-cf76-c5e3e5e4fb9a"
      },
      "source": [
        "print(\"Accuracy knn là:  \",round(acc_knn*100,2))"
      ],
      "execution_count": null,
      "outputs": [
        {
          "output_type": "stream",
          "name": "stdout",
          "text": [
            "Accuracy knn là:   85.0\n"
          ]
        }
      ]
    },
    {
      "cell_type": "code",
      "metadata": {
        "colab": {
          "base_uri": "https://localhost:8080/"
        },
        "id": "5MZFuTV6tNWL",
        "outputId": "37da0a05-0e46-4502-e450-55902417152c"
      },
      "source": [
        "print(\"Accuracy  navie bayes là:  \",round(acc_nv*100,2))"
      ],
      "execution_count": null,
      "outputs": [
        {
          "output_type": "stream",
          "name": "stdout",
          "text": [
            "Accuracy  navie bayes là:   78.75\n"
          ]
        }
      ]
    },
    {
      "cell_type": "code",
      "metadata": {
        "colab": {
          "base_uri": "https://localhost:8080/"
        },
        "id": "9Bn0EJ_5t0B5",
        "outputId": "99a437d4-65c6-47d3-965f-5a2ee4727d53"
      },
      "source": [
        "print(\"Accuracy  decision tree là:  \",round(acc_dt*100,2))"
      ],
      "execution_count": null,
      "outputs": [
        {
          "output_type": "stream",
          "name": "stdout",
          "text": [
            "Accuracy  decision tree là:   83.75\n"
          ]
        }
      ]
    },
    {
      "cell_type": "code",
      "metadata": {
        "colab": {
          "base_uri": "https://localhost:8080/"
        },
        "id": "_drv-IOeuSaY",
        "outputId": "0ee18bf5-d55d-459a-9884-47b2279ce88d"
      },
      "source": [
        "print(\"Accuracy random forest là:  \",round(acc_rf*100,2))"
      ],
      "execution_count": null,
      "outputs": [
        {
          "output_type": "stream",
          "name": "stdout",
          "text": [
            "Accuracy random forest là:   85.0\n"
          ]
        }
      ]
    }
  ]
}