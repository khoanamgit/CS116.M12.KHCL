{
  "nbformat": 4,
  "nbformat_minor": 0,
  "metadata": {
    "colab": {
      "name": "Final_CS116.ipynb",
      "provenance": [],
      "collapsed_sections": [],
      "toc_visible": true
    },
    "kernelspec": {
      "name": "python3",
      "display_name": "Python 3"
    },
    "language_info": {
      "name": "python"
    },
    "accelerator": "GPU"
  },
  "cells": [
    {
      "cell_type": "code",
      "execution_count": null,
      "metadata": {
        "colab": {
          "base_uri": "https://localhost:8080/"
        },
        "id": "iZwxQfRSKCfe",
        "outputId": "f9984634-3ca1-45c8-d0b2-fee33bbda948"
      },
      "outputs": [
        {
          "output_type": "stream",
          "name": "stdout",
          "text": [
            "Drive already mounted at /drive; to attempt to forcibly remount, call drive.mount(\"/drive\", force_remount=True).\n"
          ]
        }
      ],
      "source": [
        "from google.colab import drive\n",
        "drive.mount('/drive')"
      ]
    },
    {
      "cell_type": "code",
      "source": [
        "import warnings\n",
        "import matplotlib.pyplot as plt\n",
        "import pandas as pd\n",
        "import seaborn as sns\n",
        "from sklearn.preprocessing import RobustScaler\n",
        "import numpy as np\n",
        "from lightgbm import LGBMClassifier\n",
        "from sklearn.ensemble import GradientBoostingClassifier\n",
        "from sklearn.ensemble import RandomForestClassifier\n",
        "from sklearn.linear_model import LogisticRegression\n",
        "from sklearn.metrics import accuracy_score, roc_auc_score, roc_curve, \\\n",
        "    classification_report\n",
        "from sklearn.model_selection import KFold\n",
        "from sklearn.model_selection import train_test_split, GridSearchCV, cross_val_score\n",
        "from sklearn.neighbors import KNeighborsClassifier\n",
        "from sklearn.svm import SVC\n",
        "from sklearn.tree import DecisionTreeClassifier\n",
        "from xgboost import XGBClassifier\n",
        "from sklearn.model_selection import GridSearchCV"
      ],
      "metadata": {
        "id": "agp3-gOqL2UK"
      },
      "execution_count": null,
      "outputs": []
    },
    {
      "cell_type": "markdown",
      "source": [
        "# Data Exploration"
      ],
      "metadata": {
        "id": "sqQLiAxHdQO1"
      }
    },
    {
      "cell_type": "code",
      "source": [
        "#reading the data set\n",
        "df = pd.read_csv(\"/drive/MyDrive/DataLTPython/diabetes.csv\")"
      ],
      "metadata": {
        "id": "BzBhLeNtL9sT"
      },
      "execution_count": null,
      "outputs": []
    },
    {
      "cell_type": "code",
      "source": [
        "df.head()"
      ],
      "metadata": {
        "colab": {
          "base_uri": "https://localhost:8080/",
          "height": 206
        },
        "id": "6R2b97OzMMim",
        "outputId": "83d7bbfe-86ff-4e8f-ad4b-1f9c9b792fa0"
      },
      "execution_count": null,
      "outputs": [
        {
          "output_type": "execute_result",
          "data": {
            "text/html": [
              "<div>\n",
              "<style scoped>\n",
              "    .dataframe tbody tr th:only-of-type {\n",
              "        vertical-align: middle;\n",
              "    }\n",
              "\n",
              "    .dataframe tbody tr th {\n",
              "        vertical-align: top;\n",
              "    }\n",
              "\n",
              "    .dataframe thead th {\n",
              "        text-align: right;\n",
              "    }\n",
              "</style>\n",
              "<table border=\"1\" class=\"dataframe\">\n",
              "  <thead>\n",
              "    <tr style=\"text-align: right;\">\n",
              "      <th></th>\n",
              "      <th>Pregnancies</th>\n",
              "      <th>Glucose</th>\n",
              "      <th>BloodPressure</th>\n",
              "      <th>SkinThickness</th>\n",
              "      <th>Insulin</th>\n",
              "      <th>BMI</th>\n",
              "      <th>DiabetesPedigreeFunction</th>\n",
              "      <th>Age</th>\n",
              "      <th>Outcome</th>\n",
              "    </tr>\n",
              "  </thead>\n",
              "  <tbody>\n",
              "    <tr>\n",
              "      <th>0</th>\n",
              "      <td>6</td>\n",
              "      <td>148</td>\n",
              "      <td>72</td>\n",
              "      <td>35</td>\n",
              "      <td>0</td>\n",
              "      <td>33.6</td>\n",
              "      <td>0.627</td>\n",
              "      <td>50</td>\n",
              "      <td>1</td>\n",
              "    </tr>\n",
              "    <tr>\n",
              "      <th>1</th>\n",
              "      <td>1</td>\n",
              "      <td>85</td>\n",
              "      <td>66</td>\n",
              "      <td>29</td>\n",
              "      <td>0</td>\n",
              "      <td>26.6</td>\n",
              "      <td>0.351</td>\n",
              "      <td>31</td>\n",
              "      <td>0</td>\n",
              "    </tr>\n",
              "    <tr>\n",
              "      <th>2</th>\n",
              "      <td>8</td>\n",
              "      <td>183</td>\n",
              "      <td>64</td>\n",
              "      <td>0</td>\n",
              "      <td>0</td>\n",
              "      <td>23.3</td>\n",
              "      <td>0.672</td>\n",
              "      <td>32</td>\n",
              "      <td>1</td>\n",
              "    </tr>\n",
              "    <tr>\n",
              "      <th>3</th>\n",
              "      <td>1</td>\n",
              "      <td>89</td>\n",
              "      <td>66</td>\n",
              "      <td>23</td>\n",
              "      <td>94</td>\n",
              "      <td>28.1</td>\n",
              "      <td>0.167</td>\n",
              "      <td>21</td>\n",
              "      <td>0</td>\n",
              "    </tr>\n",
              "    <tr>\n",
              "      <th>4</th>\n",
              "      <td>0</td>\n",
              "      <td>137</td>\n",
              "      <td>40</td>\n",
              "      <td>35</td>\n",
              "      <td>168</td>\n",
              "      <td>43.1</td>\n",
              "      <td>2.288</td>\n",
              "      <td>33</td>\n",
              "      <td>1</td>\n",
              "    </tr>\n",
              "  </tbody>\n",
              "</table>\n",
              "</div>"
            ],
            "text/plain": [
              "   Pregnancies  Glucose  BloodPressure  ...  DiabetesPedigreeFunction  Age  Outcome\n",
              "0            6      148             72  ...                     0.627   50        1\n",
              "1            1       85             66  ...                     0.351   31        0\n",
              "2            8      183             64  ...                     0.672   32        1\n",
              "3            1       89             66  ...                     0.167   21        0\n",
              "4            0      137             40  ...                     2.288   33        1\n",
              "\n",
              "[5 rows x 9 columns]"
            ]
          },
          "metadata": {},
          "execution_count": 4
        }
      ]
    },
    {
      "cell_type": "code",
      "source": [
        "print(\"Diabetes data set dimensions : {}\".format(df.shape))"
      ],
      "metadata": {
        "colab": {
          "base_uri": "https://localhost:8080/"
        },
        "id": "ghEGaKOfczUi",
        "outputId": "ae245646-49ed-4f37-9cee-bf6017673247"
      },
      "execution_count": null,
      "outputs": [
        {
          "output_type": "stream",
          "name": "stdout",
          "text": [
            "Diabetes data set dimensions : (768, 9)\n"
          ]
        }
      ]
    },
    {
      "cell_type": "code",
      "source": [
        "df.groupby('Outcome').size()"
      ],
      "metadata": {
        "colab": {
          "base_uri": "https://localhost:8080/"
        },
        "id": "HhwnPbLGevnf",
        "outputId": "326b6d02-1995-4e17-c80b-fbc4f6fc4463"
      },
      "execution_count": null,
      "outputs": [
        {
          "output_type": "execute_result",
          "data": {
            "text/plain": [
              "Outcome\n",
              "0    500\n",
              "1    268\n",
              "dtype: int64"
            ]
          },
          "metadata": {},
          "execution_count": 6
        }
      ]
    },
    {
      "cell_type": "code",
      "source": [
        "color_wheel = {1: \"#0392cf\", \n",
        "               2: \"#7bc043\"}\n",
        "colors = df[\"Outcome\"].map(lambda x: color_wheel.get(x + 1))\n",
        "print(df.Outcome.value_counts())\n",
        "p=df.Outcome.value_counts().plot(kind=\"bar\")"
      ],
      "metadata": {
        "colab": {
          "base_uri": "https://localhost:8080/",
          "height": 314
        },
        "id": "29Srz0GFgs1D",
        "outputId": "cdebaf67-8f89-44c5-e32d-a3e942f780aa"
      },
      "execution_count": null,
      "outputs": [
        {
          "output_type": "stream",
          "name": "stdout",
          "text": [
            "0    500\n",
            "1    268\n",
            "Name: Outcome, dtype: int64\n"
          ]
        },
        {
          "output_type": "display_data",
          "data": {
            "image/png": "[encoded data removed]",
            "text/plain": [
              "<Figure size 432x288 with 1 Axes>"
            ]
          },
          "metadata": {
            "needs_background": "light"
          }
        }
      ]
    },
    {
      "cell_type": "code",
      "source": [
        "df.info()"
      ],
      "metadata": {
        "colab": {
          "base_uri": "https://localhost:8080/"
        },
        "id": "0JPySxffgGOO",
        "outputId": "3b051c42-b4d1-4cce-b6d5-09bd3f101f5e"
      },
      "execution_count": null,
      "outputs": [
        {
          "output_type": "stream",
          "name": "stdout",
          "text": [
            "<class 'pandas.core.frame.DataFrame'>\n",
            "RangeIndex: 768 entries, 0 to 767\n",
            "Data columns (total 9 columns):\n",
            " #   Column                    Non-Null Count  Dtype  \n",
            "---  ------                    --------------  -----  \n",
            " 0   Pregnancies               768 non-null    int64  \n",
            " 1   Glucose                   768 non-null    int64  \n",
            " 2   BloodPressure             768 non-null    int64  \n",
            " 3   SkinThickness             768 non-null    int64  \n",
            " 4   Insulin                   768 non-null    int64  \n",
            " 5   BMI                       768 non-null    float64\n",
            " 6   DiabetesPedigreeFunction  768 non-null    float64\n",
            " 7   Age                       768 non-null    int64  \n",
            " 8   Outcome                   768 non-null    int64  \n",
            "dtypes: float64(2), int64(7)\n",
            "memory usage: 54.1 KB\n"
          ]
        }
      ]
    },
    {
      "cell_type": "code",
      "source": [
        "# see how the data is distributed.\n",
        "df.hist(figsize = (20,20))"
      ],
      "metadata": {
        "colab": {
          "base_uri": "https://localhost:8080/",
          "height": 1000
        },
        "id": "xEHjpWD2bA9B",
        "outputId": "fd30e808-21e2-40f9-e55a-fada296b08aa"
      },
      "execution_count": null,
      "outputs": [
        {
          "output_type": "execute_result",
          "data": {
            "text/plain": [
              "array([[<matplotlib.axes._subplots.AxesSubplot object at 0x7fe990176ed0>,\n",
              "        <matplotlib.axes._subplots.AxesSubplot object at 0x7fe98fc89fd0>,\n",
              "        <matplotlib.axes._subplots.AxesSubplot object at 0x7fe98fc4c990>],\n",
              "       [<matplotlib.axes._subplots.AxesSubplot object at 0x7fe98fc11110>,\n",
              "        <matplotlib.axes._subplots.AxesSubplot object at 0x7fe98fbc7850>,\n",
              "        <matplotlib.axes._subplots.AxesSubplot object at 0x7fe98fb84f50>],\n",
              "       [<matplotlib.axes._subplots.AxesSubplot object at 0x7fe98fb47350>,\n",
              "        <matplotlib.axes._subplots.AxesSubplot object at 0x7fe98fafd790>,\n",
              "        <matplotlib.axes._subplots.AxesSubplot object at 0x7fe98fafd7d0>]],\n",
              "      dtype=object)"
            ]
          },
          "metadata": {},
          "execution_count": 9
        },
        {
          "output_type": "display_data",
          "data": {
            "image/png": "[encoded data removed]",
            "text/plain": [
              "<Figure size 1440x1440 with 9 Axes>"
            ]
          },
          "metadata": {
            "needs_background": "light"
          }
        }
      ]
    },
    {
      "cell_type": "code",
      "source": [
        "print(\"Total BloodPtrssure : \", df[df.BloodPressure == 0].shape[0])\n",
        "print(\"Total Glucose : \", df[df.Glucose == 0].shape[0])\n",
        "print(\"Total SkinThickness : \", df[df.SkinThickness == 0].shape[0])\n",
        "print(\"Total BMI : \", df[df.BMI == 0].shape[0])\n",
        "print(\"Total Insulin : \", df[df.Insulin == 0].shape[0])"
      ],
      "metadata": {
        "colab": {
          "base_uri": "https://localhost:8080/"
        },
        "id": "DzEGZGWDfB8a",
        "outputId": "5bbea333-9926-4ff8-a95c-3bfeeb3c23fb"
      },
      "execution_count": null,
      "outputs": [
        {
          "output_type": "stream",
          "name": "stdout",
          "text": [
            "Total BloodPtrssure :  35\n",
            "Total Glucose :  5\n",
            "Total SkinThickness :  227\n",
            "Total BMI :  11\n",
            "Total Insulin :  374\n"
          ]
        }
      ]
    },
    {
      "cell_type": "code",
      "source": [
        "df.isnull().sum()"
      ],
      "metadata": {
        "colab": {
          "base_uri": "https://localhost:8080/"
        },
        "id": "uwyowHN4dMj8",
        "outputId": "1c34ec61-1913-4873-bab9-e8cef5db06c7"
      },
      "execution_count": null,
      "outputs": [
        {
          "output_type": "execute_result",
          "data": {
            "text/plain": [
              "Pregnancies                 0\n",
              "Glucose                     0\n",
              "BloodPressure               0\n",
              "SkinThickness               0\n",
              "Insulin                     0\n",
              "BMI                         0\n",
              "DiabetesPedigreeFunction    0\n",
              "Age                         0\n",
              "Outcome                     0\n",
              "dtype: int64"
            ]
          },
          "metadata": {},
          "execution_count": 10
        }
      ]
    },
    {
      "cell_type": "markdown",
      "source": [
        "# Data processing"
      ],
      "metadata": {
        "id": "avEDuGc7j-sx"
      }
    },
    {
      "cell_type": "code",
      "source": [
        "df_mod = df[(df.BloodPressure != 0) & (df.BMI != 0) & (df.Glucose != 0)]\n",
        "print(df_mod.shape)"
      ],
      "metadata": {
        "colab": {
          "base_uri": "https://localhost:8080/"
        },
        "id": "w0J6zO_PepA7",
        "outputId": "44190bf9-b684-4510-c986-d0469b7faf53"
      },
      "execution_count": null,
      "outputs": [
        {
          "output_type": "stream",
          "name": "stdout",
          "text": [
            "(724, 9)\n"
          ]
        }
      ]
    },
    {
      "cell_type": "code",
      "source": [
        "X = df.iloc[:, :-2]\n",
        "y = df.iloc[:, -1]"
      ],
      "metadata": {
        "id": "JuoF_HOMged6"
      },
      "execution_count": null,
      "outputs": []
    },
    {
      "cell_type": "markdown",
      "source": [
        "# Model Normal"
      ],
      "metadata": {
        "id": "L4HGqTpHjzEL"
      }
    },
    {
      "cell_type": "code",
      "source": [
        "x_train, x_test, y_train, y_test = train_test_split(X, y, random_state = 0, test_size = 0.2)\n",
        "\n",
        "# Creating the SVM model.\n",
        "clf = SVC()\n",
        "clf.fit(x_train,y_train)\n",
        "y_pred = clf.predict(x_test)\n",
        "\n",
        "print(classification_report(y_pred, y_test))"
      ],
      "metadata": {
        "colab": {
          "base_uri": "https://localhost:8080/"
        },
        "id": "LxP98VLUgjsg",
        "outputId": "b0da1b18-b375-4b79-ab6a-31113151bc31"
      },
      "execution_count": null,
      "outputs": [
        {
          "output_type": "stream",
          "name": "stdout",
          "text": [
            "              precision    recall  f1-score   support\n",
            "\n",
            "           0       0.92      0.82      0.86       120\n",
            "           1       0.53      0.74      0.62        34\n",
            "\n",
            "    accuracy                           0.80       154\n",
            "   macro avg       0.72      0.78      0.74       154\n",
            "weighted avg       0.83      0.80      0.81       154\n",
            "\n"
          ]
        }
      ]
    },
    {
      "cell_type": "markdown",
      "source": [
        "# Kfold "
      ],
      "metadata": {
        "id": "7HXlORQCj32i"
      }
    },
    {
      "cell_type": "code",
      "source": [
        "kfold = KFold(n_splits=5, shuffle=True, random_state=1)\n",
        "accuracy_list = []\n",
        "X_data = X\n",
        "y_data = y\n",
        "for train, test in kfold.split(X_data, y_data):\n",
        "    clf = SVC()\n",
        "    X_train, X_test = X_data.iloc[train], X_data.iloc[test];\n",
        "    y_train, y_test = y_data.iloc[train], y_data.iloc[test]\n",
        "\n",
        "    clf.fit(X_train, y_train)\n",
        "    y_pred = clf.predict(X_test)\n",
        "    accuracy_list.append(accuracy_score(y_test, y_pred))\n",
        "\n",
        "print(\"Accuracy: \", np.mean(accuracy_list) * 100)"
      ],
      "metadata": {
        "colab": {
          "base_uri": "https://localhost:8080/"
        },
        "id": "HMDA2OzXhPPz",
        "outputId": "0dd9e9a8-7488-429d-8c8f-431fbab44090"
      },
      "execution_count": null,
      "outputs": [
        {
          "output_type": "stream",
          "name": "stdout",
          "text": [
            "Accuracy:  75.78134284016637\n"
          ]
        }
      ]
    },
    {
      "cell_type": "code",
      "source": [
        "models = [('LR', LogisticRegression()),\n",
        "          ('KNN', KNeighborsClassifier()),\n",
        "          ('CART', DecisionTreeClassifier()),\n",
        "          ('RF', RandomForestClassifier()),\n",
        "          ('XGBM', XGBClassifier()),\n",
        "          ('GB',GradientBoostingClassifier()),\n",
        "          (\"LightGBM\", LGBMClassifier())]\n",
        "\n",
        "# evaluate each model in turn\n",
        "results = []\n",
        "names = []\n",
        "\n",
        "for name, model in models:\n",
        "    kfold = KFold(n_splits=5)\n",
        "    cv_results = cross_val_score(model, X, y, cv=kfold, scoring=\"accuracy\")\n",
        "    results.append(cv_results)\n",
        "    names.append(name)\n",
        "    msg = \"%s: %f (%f)\" % (name, cv_results.mean(), cv_results.std())\n",
        "    print(msg)"
      ],
      "metadata": {
        "colab": {
          "base_uri": "https://localhost:8080/"
        },
        "id": "5H7JZuoscjY9",
        "outputId": "eb6958f8-c792-4f8a-d6c0-0f79d760e576"
      },
      "execution_count": null,
      "outputs": [
        {
          "output_type": "stream",
          "name": "stderr",
          "text": [
            "/usr/local/lib/python3.7/dist-packages/sklearn/linear_model/_logistic.py:818: ConvergenceWarning: lbfgs failed to converge (status=1):\n",
            "STOP: TOTAL NO. of ITERATIONS REACHED LIMIT.\n",
            "\n",
            "Increase the number of iterations (max_iter) or scale the data as shown in:\n",
            "    https://scikit-learn.org/stable/modules/preprocessing.html\n",
            "Please also refer to the documentation for alternative solver options:\n",
            "    https://scikit-learn.org/stable/modules/linear_model.html#logistic-regression\n",
            "  extra_warning_msg=_LOGISTIC_SOLVER_CONVERGENCE_MSG,\n",
            "/usr/local/lib/python3.7/dist-packages/sklearn/linear_model/_logistic.py:818: ConvergenceWarning: lbfgs failed to converge (status=1):\n",
            "STOP: TOTAL NO. of ITERATIONS REACHED LIMIT.\n",
            "\n",
            "Increase the number of iterations (max_iter) or scale the data as shown in:\n",
            "    https://scikit-learn.org/stable/modules/preprocessing.html\n",
            "Please also refer to the documentation for alternative solver options:\n",
            "    https://scikit-learn.org/stable/modules/linear_model.html#logistic-regression\n",
            "  extra_warning_msg=_LOGISTIC_SOLVER_CONVERGENCE_MSG,\n"
          ]
        },
        {
          "output_type": "stream",
          "name": "stdout",
          "text": [
            "LR: 0.766989 (0.031051)\n",
            "KNN: 0.700569 (0.048939)\n",
            "CART: 0.682361 (0.054699)\n",
            "RF: 0.750013 (0.036796)\n",
            "XGBM: 0.752653 (0.039242)\n",
            "GB: 0.747432 (0.022651)\n",
            "LightGBM: 0.725295 (0.028636)\n"
          ]
        }
      ]
    },
    {
      "cell_type": "markdown",
      "source": [
        "# Tunning paramater in SVM"
      ],
      "metadata": {
        "id": "uU4UEERwkFlD"
      }
    },
    {
      "cell_type": "markdown",
      "source": [
        "## Tunning with kernel"
      ],
      "metadata": {
        "id": "Y68knCPAmYLD"
      }
    },
    {
      "cell_type": "code",
      "source": [
        "x_train, x_test, y_train, y_test = train_test_split(X, y, random_state = 0, test_size = 0.2)\n",
        "\n",
        "kernel = ['linear','poly','rbf','sigmoid']\n",
        "for i in kernel:\n",
        "  model = SVC(kernel=i,C=1.0)\n",
        "  model.fit(x_train,y_train)\n",
        "  print('Kernel',i,'accuracy is:',model.score(x_test,y_test))"
      ],
      "metadata": {
        "colab": {
          "base_uri": "https://localhost:8080/"
        },
        "id": "dS28x1K9kJny",
        "outputId": "a541b8cc-1ded-45cd-c3c9-029865efae64"
      },
      "execution_count": null,
      "outputs": [
        {
          "output_type": "stream",
          "name": "stdout",
          "text": [
            "Kernel linear accuracy is: 0.8051948051948052\n",
            "Kernel poly accuracy is: 0.7987012987012987\n",
            "Kernel rbf accuracy is: 0.7987012987012987\n",
            "Kernel sigmoid accuracy is: 0.5194805194805194\n"
          ]
        }
      ]
    },
    {
      "cell_type": "markdown",
      "source": [
        "## Tunning with degree domain value [1,10]"
      ],
      "metadata": {
        "id": "IAspp2FFoV-X"
      }
    },
    {
      "cell_type": "code",
      "source": [
        "for i in range(1,10):\n",
        "  model = SVC(kernel='poly',degree=i)\n",
        "  model.fit(x_train,y_train)\n",
        "  print('Degree',i,'accuracy is:',model.score(x_test,y_test))"
      ],
      "metadata": {
        "colab": {
          "base_uri": "https://localhost:8080/"
        },
        "id": "Id5wlYqroOsk",
        "outputId": "ddb015d4-68b0-4597-a16b-8e4236d7f7bd"
      },
      "execution_count": null,
      "outputs": [
        {
          "output_type": "stream",
          "name": "stdout",
          "text": [
            "Degree 1 accuracy is: 0.8051948051948052\n",
            "Degree 2 accuracy is: 0.7987012987012987\n",
            "Degree 3 accuracy is: 0.7987012987012987\n",
            "Degree 4 accuracy is: 0.7727272727272727\n",
            "Degree 5 accuracy is: 0.7857142857142857\n",
            "Degree 6 accuracy is: 0.7792207792207793\n",
            "Degree 7 accuracy is: 0.7792207792207793\n",
            "Degree 8 accuracy is: 0.7857142857142857\n",
            "Degree 9 accuracy is: 0.7727272727272727\n"
          ]
        }
      ]
    },
    {
      "cell_type": "code",
      "source": [
        "x_train, x_test, y_train, y_test = train_test_split(X, y, random_state = 0, test_size = 0.2)\n",
        "param_grid = {\n",
        "    #'C':[0.1,1,100,1000],\n",
        "    'kernel':['linear','poly','rbf','sigmoid'],\n",
        "    #'gamma': [1, 0.1, 0.01, 0.001, 0.0001],\n",
        "}\n",
        "grid = GridSearchCV(SVC(),param_grid)\n",
        "grid.fit(x_train,y_train)"
      ],
      "metadata": {
        "colab": {
          "base_uri": "https://localhost:8080/"
        },
        "id": "cRAaWINUukVt",
        "outputId": "e9f9ad5a-f823-4274-c6fe-06ba189e8a4b"
      },
      "execution_count": null,
      "outputs": [
        {
          "output_type": "execute_result",
          "data": {
            "text/plain": [
              "GridSearchCV(estimator=SVC(),\n",
              "             param_grid={'kernel': ['linear', 'poly', 'rbf', 'sigmoid']})"
            ]
          },
          "metadata": {},
          "execution_count": 23
        }
      ]
    },
    {
      "cell_type": "code",
      "source": [
        "print(grid.best_params_)\n",
        "print(grid.score(x_test,y_test))"
      ],
      "metadata": {
        "colab": {
          "base_uri": "https://localhost:8080/"
        },
        "id": "piWGfcJb0uUj",
        "outputId": "119a9e4e-2971-4680-f35f-9823d07826ee"
      },
      "execution_count": null,
      "outputs": [
        {
          "output_type": "stream",
          "name": "stdout",
          "text": [
            "{'C': 1, 'degree': 1, 'kernel': 'linear'}\n",
            "0.8051948051948052\n"
          ]
        }
      ]
    }
  ]
}