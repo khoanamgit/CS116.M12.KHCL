{
  "nbformat": 4,
  "nbformat_minor": 0,
  "metadata": {
    "colab": {
      "name": "19521877_VoKhoaNam_BTap8.ipynb",
      "provenance": [],
      "collapsed_sections": [],
      "toc_visible": true
    },
    "kernelspec": {
      "name": "python3",
      "display_name": "Python 3"
    },
    "language_info": {
      "name": "python"
    }
  },
  "cells": [
    {
      "cell_type": "markdown",
      "metadata": {
        "id": "zaI3-sZJtJQK"
      },
      "source": [
        "# Thông Tin Sinh Viên\n",
        "1. Họ tên: Võ Khoa Nam\n",
        "2. Mssv: 19521877\n",
        "3. Lớp: CS116.M12.KHCL"
      ]
    },
    {
      "cell_type": "code",
      "metadata": {
        "colab": {
          "base_uri": "https://localhost:8080/"
        },
        "id": "UD-zgS4KgE3B",
        "outputId": "ffff3a14-aef9-4550-c745-e363e469fd98"
      },
      "source": [
        "from google.colab import drive\n",
        "drive.mount('/content/drive')"
      ],
      "execution_count": 1,
      "outputs": [
        {
          "output_type": "stream",
          "name": "stdout",
          "text": [
            "Mounted at /content/drive\n"
          ]
        }
      ]
    },
    {
      "cell_type": "code",
      "metadata": {
        "id": "-ptnK_FFgS7F"
      },
      "source": [
        "# Thêm một số thư viện\n",
        "import pandas as pd\n",
        "import numpy as np\n",
        "from sklearn.model_selection import KFold\n",
        "import matplotlib.pyplot as plt\n",
        "from sklearn.compose import make_column_transformer\n",
        "from sklearn.preprocessing import OneHotEncoder\n",
        "from sklearn.compose import ColumnTransformer"
      ],
      "execution_count": 4,
      "outputs": []
    },
    {
      "cell_type": "markdown",
      "metadata": {
        "id": "dDzF5v74chcy"
      },
      "source": [
        "# Read Data"
      ]
    },
    {
      "cell_type": "code",
      "metadata": {
        "colab": {
          "base_uri": "https://localhost:8080/",
          "height": 222
        },
        "id": "8m0lvqDOgUtT",
        "outputId": "47fa0750-3f3c-43f8-bc53-47b1076201d7"
      },
      "source": [
        "# Đọc file data bằng geopandas\n",
        "data = pd.read_csv('/content/drive/MyDrive/Churn_Modelling.csv')\n",
        "data.head()"
      ],
      "execution_count": 5,
      "outputs": [
        {
          "output_type": "execute_result",
          "data": {
            "text/html": [
              "<div>\n",
              "<style scoped>\n",
              "    .dataframe tbody tr th:only-of-type {\n",
              "        vertical-align: middle;\n",
              "    }\n",
              "\n",
              "    .dataframe tbody tr th {\n",
              "        vertical-align: top;\n",
              "    }\n",
              "\n",
              "    .dataframe thead th {\n",
              "        text-align: right;\n",
              "    }\n",
              "</style>\n",
              "<table border=\"1\" class=\"dataframe\">\n",
              "  <thead>\n",
              "    <tr style=\"text-align: right;\">\n",
              "      <th></th>\n",
              "      <th>RowNumber</th>\n",
              "      <th>CustomerId</th>\n",
              "      <th>Surname</th>\n",
              "      <th>CreditScore</th>\n",
              "      <th>Geography</th>\n",
              "      <th>Gender</th>\n",
              "      <th>Age</th>\n",
              "      <th>Tenure</th>\n",
              "      <th>Balance</th>\n",
              "      <th>NumOfProducts</th>\n",
              "      <th>HasCrCard</th>\n",
              "      <th>IsActiveMember</th>\n",
              "      <th>EstimatedSalary</th>\n",
              "      <th>Exited</th>\n",
              "    </tr>\n",
              "  </thead>\n",
              "  <tbody>\n",
              "    <tr>\n",
              "      <th>0</th>\n",
              "      <td>1</td>\n",
              "      <td>15634602</td>\n",
              "      <td>Hargrave</td>\n",
              "      <td>619</td>\n",
              "      <td>France</td>\n",
              "      <td>Female</td>\n",
              "      <td>42</td>\n",
              "      <td>2</td>\n",
              "      <td>0.00</td>\n",
              "      <td>1</td>\n",
              "      <td>1</td>\n",
              "      <td>1</td>\n",
              "      <td>101348.88</td>\n",
              "      <td>1</td>\n",
              "    </tr>\n",
              "    <tr>\n",
              "      <th>1</th>\n",
              "      <td>2</td>\n",
              "      <td>15647311</td>\n",
              "      <td>Hill</td>\n",
              "      <td>608</td>\n",
              "      <td>Spain</td>\n",
              "      <td>Female</td>\n",
              "      <td>41</td>\n",
              "      <td>1</td>\n",
              "      <td>83807.86</td>\n",
              "      <td>1</td>\n",
              "      <td>0</td>\n",
              "      <td>1</td>\n",
              "      <td>112542.58</td>\n",
              "      <td>0</td>\n",
              "    </tr>\n",
              "    <tr>\n",
              "      <th>2</th>\n",
              "      <td>3</td>\n",
              "      <td>15619304</td>\n",
              "      <td>Onio</td>\n",
              "      <td>502</td>\n",
              "      <td>France</td>\n",
              "      <td>Female</td>\n",
              "      <td>42</td>\n",
              "      <td>8</td>\n",
              "      <td>159660.80</td>\n",
              "      <td>3</td>\n",
              "      <td>1</td>\n",
              "      <td>0</td>\n",
              "      <td>113931.57</td>\n",
              "      <td>1</td>\n",
              "    </tr>\n",
              "    <tr>\n",
              "      <th>3</th>\n",
              "      <td>4</td>\n",
              "      <td>15701354</td>\n",
              "      <td>Boni</td>\n",
              "      <td>699</td>\n",
              "      <td>France</td>\n",
              "      <td>Female</td>\n",
              "      <td>39</td>\n",
              "      <td>1</td>\n",
              "      <td>0.00</td>\n",
              "      <td>2</td>\n",
              "      <td>0</td>\n",
              "      <td>0</td>\n",
              "      <td>93826.63</td>\n",
              "      <td>0</td>\n",
              "    </tr>\n",
              "    <tr>\n",
              "      <th>4</th>\n",
              "      <td>5</td>\n",
              "      <td>15737888</td>\n",
              "      <td>Mitchell</td>\n",
              "      <td>850</td>\n",
              "      <td>Spain</td>\n",
              "      <td>Female</td>\n",
              "      <td>43</td>\n",
              "      <td>2</td>\n",
              "      <td>125510.82</td>\n",
              "      <td>1</td>\n",
              "      <td>1</td>\n",
              "      <td>1</td>\n",
              "      <td>79084.10</td>\n",
              "      <td>0</td>\n",
              "    </tr>\n",
              "  </tbody>\n",
              "</table>\n",
              "</div>"
            ],
            "text/plain": [
              "   RowNumber  CustomerId   Surname  ...  IsActiveMember EstimatedSalary Exited\n",
              "0          1    15634602  Hargrave  ...               1       101348.88      1\n",
              "1          2    15647311      Hill  ...               1       112542.58      0\n",
              "2          3    15619304      Onio  ...               0       113931.57      1\n",
              "3          4    15701354      Boni  ...               0        93826.63      0\n",
              "4          5    15737888  Mitchell  ...               1        79084.10      0\n",
              "\n",
              "[5 rows x 14 columns]"
            ]
          },
          "metadata": {},
          "execution_count": 5
        }
      ]
    },
    {
      "cell_type": "code",
      "metadata": {
        "id": "YfwwuK2XYsxY"
      },
      "source": [
        "# Bỏ 3 cột đầu tiên do không ảnh hưởng đến output\n",
        "data = data.drop(data.columns[[0, 1, 2]], axis = 1)"
      ],
      "execution_count": 6,
      "outputs": []
    },
    {
      "cell_type": "code",
      "metadata": {
        "colab": {
          "base_uri": "https://localhost:8080/",
          "height": 202
        },
        "id": "nKxC-Z3OY5-c",
        "outputId": "1d09641b-6656-4096-f253-faf63b3e6ea2"
      },
      "source": [
        "# Data sau khi bỏ 3 cột\n",
        "data.head()"
      ],
      "execution_count": 7,
      "outputs": [
        {
          "output_type": "execute_result",
          "data": {
            "text/html": [
              "<div>\n",
              "<style scoped>\n",
              "    .dataframe tbody tr th:only-of-type {\n",
              "        vertical-align: middle;\n",
              "    }\n",
              "\n",
              "    .dataframe tbody tr th {\n",
              "        vertical-align: top;\n",
              "    }\n",
              "\n",
              "    .dataframe thead th {\n",
              "        text-align: right;\n",
              "    }\n",
              "</style>\n",
              "<table border=\"1\" class=\"dataframe\">\n",
              "  <thead>\n",
              "    <tr style=\"text-align: right;\">\n",
              "      <th></th>\n",
              "      <th>CreditScore</th>\n",
              "      <th>Geography</th>\n",
              "      <th>Gender</th>\n",
              "      <th>Age</th>\n",
              "      <th>Tenure</th>\n",
              "      <th>Balance</th>\n",
              "      <th>NumOfProducts</th>\n",
              "      <th>HasCrCard</th>\n",
              "      <th>IsActiveMember</th>\n",
              "      <th>EstimatedSalary</th>\n",
              "      <th>Exited</th>\n",
              "    </tr>\n",
              "  </thead>\n",
              "  <tbody>\n",
              "    <tr>\n",
              "      <th>0</th>\n",
              "      <td>619</td>\n",
              "      <td>France</td>\n",
              "      <td>Female</td>\n",
              "      <td>42</td>\n",
              "      <td>2</td>\n",
              "      <td>0.00</td>\n",
              "      <td>1</td>\n",
              "      <td>1</td>\n",
              "      <td>1</td>\n",
              "      <td>101348.88</td>\n",
              "      <td>1</td>\n",
              "    </tr>\n",
              "    <tr>\n",
              "      <th>1</th>\n",
              "      <td>608</td>\n",
              "      <td>Spain</td>\n",
              "      <td>Female</td>\n",
              "      <td>41</td>\n",
              "      <td>1</td>\n",
              "      <td>83807.86</td>\n",
              "      <td>1</td>\n",
              "      <td>0</td>\n",
              "      <td>1</td>\n",
              "      <td>112542.58</td>\n",
              "      <td>0</td>\n",
              "    </tr>\n",
              "    <tr>\n",
              "      <th>2</th>\n",
              "      <td>502</td>\n",
              "      <td>France</td>\n",
              "      <td>Female</td>\n",
              "      <td>42</td>\n",
              "      <td>8</td>\n",
              "      <td>159660.80</td>\n",
              "      <td>3</td>\n",
              "      <td>1</td>\n",
              "      <td>0</td>\n",
              "      <td>113931.57</td>\n",
              "      <td>1</td>\n",
              "    </tr>\n",
              "    <tr>\n",
              "      <th>3</th>\n",
              "      <td>699</td>\n",
              "      <td>France</td>\n",
              "      <td>Female</td>\n",
              "      <td>39</td>\n",
              "      <td>1</td>\n",
              "      <td>0.00</td>\n",
              "      <td>2</td>\n",
              "      <td>0</td>\n",
              "      <td>0</td>\n",
              "      <td>93826.63</td>\n",
              "      <td>0</td>\n",
              "    </tr>\n",
              "    <tr>\n",
              "      <th>4</th>\n",
              "      <td>850</td>\n",
              "      <td>Spain</td>\n",
              "      <td>Female</td>\n",
              "      <td>43</td>\n",
              "      <td>2</td>\n",
              "      <td>125510.82</td>\n",
              "      <td>1</td>\n",
              "      <td>1</td>\n",
              "      <td>1</td>\n",
              "      <td>79084.10</td>\n",
              "      <td>0</td>\n",
              "    </tr>\n",
              "  </tbody>\n",
              "</table>\n",
              "</div>"
            ],
            "text/plain": [
              "   CreditScore Geography  Gender  ...  IsActiveMember  EstimatedSalary  Exited\n",
              "0          619    France  Female  ...               1        101348.88       1\n",
              "1          608     Spain  Female  ...               1        112542.58       0\n",
              "2          502    France  Female  ...               0        113931.57       1\n",
              "3          699    France  Female  ...               0         93826.63       0\n",
              "4          850     Spain  Female  ...               1         79084.10       0\n",
              "\n",
              "[5 rows x 11 columns]"
            ]
          },
          "metadata": {},
          "execution_count": 7
        }
      ]
    },
    {
      "cell_type": "markdown",
      "metadata": {
        "id": "_ow-h-Gmclfc"
      },
      "source": [
        "# OneHotEncoder"
      ]
    },
    {
      "cell_type": "code",
      "metadata": {
        "id": "iendZ38TKHmd"
      },
      "source": [
        "from sklearn.preprocessing import OneHotEncoder"
      ],
      "execution_count": 8,
      "outputs": []
    },
    {
      "cell_type": "code",
      "metadata": {
        "id": "XCHflJa3O-Lc"
      },
      "source": [
        "ct = ColumnTransformer(transformers = [('encode', OneHotEncoder(),['Geography','Gender'])],remainder = 'passthrough')\n",
        "dt_trf  = ct.fit_transform(data)\n",
        "\n",
        "df_tranform = pd.DataFrame(dt_trf)"
      ],
      "execution_count": 9,
      "outputs": []
    },
    {
      "cell_type": "code",
      "metadata": {
        "colab": {
          "base_uri": "https://localhost:8080/",
          "height": 202
        },
        "id": "FglKdZsKZJCD",
        "outputId": "02582e57-20c4-4716-d9b6-b03368ae1472"
      },
      "source": [
        "df_tranform.head()"
      ],
      "execution_count": 10,
      "outputs": [
        {
          "output_type": "execute_result",
          "data": {
            "text/html": [
              "<div>\n",
              "<style scoped>\n",
              "    .dataframe tbody tr th:only-of-type {\n",
              "        vertical-align: middle;\n",
              "    }\n",
              "\n",
              "    .dataframe tbody tr th {\n",
              "        vertical-align: top;\n",
              "    }\n",
              "\n",
              "    .dataframe thead th {\n",
              "        text-align: right;\n",
              "    }\n",
              "</style>\n",
              "<table border=\"1\" class=\"dataframe\">\n",
              "  <thead>\n",
              "    <tr style=\"text-align: right;\">\n",
              "      <th></th>\n",
              "      <th>0</th>\n",
              "      <th>1</th>\n",
              "      <th>2</th>\n",
              "      <th>3</th>\n",
              "      <th>4</th>\n",
              "      <th>5</th>\n",
              "      <th>6</th>\n",
              "      <th>7</th>\n",
              "      <th>8</th>\n",
              "      <th>9</th>\n",
              "      <th>10</th>\n",
              "      <th>11</th>\n",
              "      <th>12</th>\n",
              "      <th>13</th>\n",
              "    </tr>\n",
              "  </thead>\n",
              "  <tbody>\n",
              "    <tr>\n",
              "      <th>0</th>\n",
              "      <td>1.0</td>\n",
              "      <td>0.0</td>\n",
              "      <td>0.0</td>\n",
              "      <td>1.0</td>\n",
              "      <td>0.0</td>\n",
              "      <td>619.0</td>\n",
              "      <td>42.0</td>\n",
              "      <td>2.0</td>\n",
              "      <td>0.00</td>\n",
              "      <td>1.0</td>\n",
              "      <td>1.0</td>\n",
              "      <td>1.0</td>\n",
              "      <td>101348.88</td>\n",
              "      <td>1.0</td>\n",
              "    </tr>\n",
              "    <tr>\n",
              "      <th>1</th>\n",
              "      <td>0.0</td>\n",
              "      <td>0.0</td>\n",
              "      <td>1.0</td>\n",
              "      <td>1.0</td>\n",
              "      <td>0.0</td>\n",
              "      <td>608.0</td>\n",
              "      <td>41.0</td>\n",
              "      <td>1.0</td>\n",
              "      <td>83807.86</td>\n",
              "      <td>1.0</td>\n",
              "      <td>0.0</td>\n",
              "      <td>1.0</td>\n",
              "      <td>112542.58</td>\n",
              "      <td>0.0</td>\n",
              "    </tr>\n",
              "    <tr>\n",
              "      <th>2</th>\n",
              "      <td>1.0</td>\n",
              "      <td>0.0</td>\n",
              "      <td>0.0</td>\n",
              "      <td>1.0</td>\n",
              "      <td>0.0</td>\n",
              "      <td>502.0</td>\n",
              "      <td>42.0</td>\n",
              "      <td>8.0</td>\n",
              "      <td>159660.80</td>\n",
              "      <td>3.0</td>\n",
              "      <td>1.0</td>\n",
              "      <td>0.0</td>\n",
              "      <td>113931.57</td>\n",
              "      <td>1.0</td>\n",
              "    </tr>\n",
              "    <tr>\n",
              "      <th>3</th>\n",
              "      <td>1.0</td>\n",
              "      <td>0.0</td>\n",
              "      <td>0.0</td>\n",
              "      <td>1.0</td>\n",
              "      <td>0.0</td>\n",
              "      <td>699.0</td>\n",
              "      <td>39.0</td>\n",
              "      <td>1.0</td>\n",
              "      <td>0.00</td>\n",
              "      <td>2.0</td>\n",
              "      <td>0.0</td>\n",
              "      <td>0.0</td>\n",
              "      <td>93826.63</td>\n",
              "      <td>0.0</td>\n",
              "    </tr>\n",
              "    <tr>\n",
              "      <th>4</th>\n",
              "      <td>0.0</td>\n",
              "      <td>0.0</td>\n",
              "      <td>1.0</td>\n",
              "      <td>1.0</td>\n",
              "      <td>0.0</td>\n",
              "      <td>850.0</td>\n",
              "      <td>43.0</td>\n",
              "      <td>2.0</td>\n",
              "      <td>125510.82</td>\n",
              "      <td>1.0</td>\n",
              "      <td>1.0</td>\n",
              "      <td>1.0</td>\n",
              "      <td>79084.10</td>\n",
              "      <td>0.0</td>\n",
              "    </tr>\n",
              "  </tbody>\n",
              "</table>\n",
              "</div>"
            ],
            "text/plain": [
              "    0    1    2    3    4      5   ...         8    9    10   11         12   13\n",
              "0  1.0  0.0  0.0  1.0  0.0  619.0  ...       0.00  1.0  1.0  1.0  101348.88  1.0\n",
              "1  0.0  0.0  1.0  1.0  0.0  608.0  ...   83807.86  1.0  0.0  1.0  112542.58  0.0\n",
              "2  1.0  0.0  0.0  1.0  0.0  502.0  ...  159660.80  3.0  1.0  0.0  113931.57  1.0\n",
              "3  1.0  0.0  0.0  1.0  0.0  699.0  ...       0.00  2.0  0.0  0.0   93826.63  0.0\n",
              "4  0.0  0.0  1.0  1.0  0.0  850.0  ...  125510.82  1.0  1.0  1.0   79084.10  0.0\n",
              "\n",
              "[5 rows x 14 columns]"
            ]
          },
          "metadata": {},
          "execution_count": 10
        }
      ]
    },
    {
      "cell_type": "markdown",
      "metadata": {
        "id": "UDThFmHecpOT"
      },
      "source": [
        "# Split Data"
      ]
    },
    {
      "cell_type": "code",
      "metadata": {
        "id": "CSLBHPSAXvan"
      },
      "source": [
        "# Chia tập dữ liệu\n",
        "X = df_tranform[df_tranform.columns[0:13]].to_numpy()\n",
        "y = df_tranform[df_tranform.columns[-1]]"
      ],
      "execution_count": 11,
      "outputs": []
    },
    {
      "cell_type": "code",
      "metadata": {
        "id": "uKpmz3PnjIpw"
      },
      "source": [
        "from sklearn.model_selection import train_test_split\n",
        "\n",
        "X_train, X_test, y_train, y_test = train_test_split(X, y, test_size=0.2, random_state = 0)"
      ],
      "execution_count": 12,
      "outputs": []
    },
    {
      "cell_type": "markdown",
      "metadata": {
        "id": "P_8hCrXPcskn"
      },
      "source": [
        "# Scaler Data"
      ]
    },
    {
      "cell_type": "code",
      "metadata": {
        "id": "SBY_N8rrqlRz"
      },
      "source": [
        "#Standar Scaler\n",
        "from sklearn.preprocessing import StandardScaler\n",
        "scaler = StandardScaler()"
      ],
      "execution_count": 14,
      "outputs": []
    },
    {
      "cell_type": "code",
      "metadata": {
        "id": "YgF1JuBiYMhM"
      },
      "source": [
        "X_train = scaler.fit_transform(X_train)"
      ],
      "execution_count": 15,
      "outputs": []
    },
    {
      "cell_type": "markdown",
      "metadata": {
        "id": "gNKz0Iz9cvCS"
      },
      "source": [
        "# Built Neural Network"
      ]
    },
    {
      "cell_type": "code",
      "metadata": {
        "id": "WMuJCk4krJsc"
      },
      "source": [
        "import keras\n",
        "from keras.models import Sequential\n",
        "from keras.layers import Dense"
      ],
      "execution_count": 16,
      "outputs": []
    },
    {
      "cell_type": "code",
      "metadata": {
        "id": "BP27e8u9VnT1"
      },
      "source": [
        "def Model():\n",
        "  classifier = Sequential()\n",
        "\n",
        "  classifier.add(Dense(6, activation = 'relu',input_dim = 13))\n",
        "  classifier.add(Dense(6, activation = 'relu'))\n",
        "  classifier.add(Dense(1, activation = 'sigmoid'))\n",
        "  classifier.compile(optimizer = 'adam', loss = 'binary_crossentropy', metrics = ['accuracy'])\n",
        "  return classifier"
      ],
      "execution_count": 17,
      "outputs": []
    },
    {
      "cell_type": "code",
      "metadata": {
        "id": "BwktMynDV8YF"
      },
      "source": [
        "model = Model()"
      ],
      "execution_count": 18,
      "outputs": []
    },
    {
      "cell_type": "code",
      "metadata": {
        "colab": {
          "base_uri": "https://localhost:8080/"
        },
        "id": "K9YcTAuzFF8q",
        "outputId": "dad60c0c-1186-4384-8719-458c5639770d"
      },
      "source": [
        "# Fitting our model \n",
        "history = model.fit(X_train,y_train,epochs=32,batch_size=100)"
      ],
      "execution_count": 19,
      "outputs": [
        {
          "output_type": "stream",
          "name": "stdout",
          "text": [
            "Epoch 1/32\n",
            "80/80 [==============================] - 1s 1ms/step - loss: 0.6275 - accuracy: 0.7015\n",
            "Epoch 2/32\n",
            "80/80 [==============================] - 0s 1ms/step - loss: 0.5448 - accuracy: 0.7966\n",
            "Epoch 3/32\n",
            "80/80 [==============================] - 0s 1ms/step - loss: 0.5054 - accuracy: 0.7983\n",
            "Epoch 4/32\n",
            "80/80 [==============================] - 0s 1ms/step - loss: 0.4788 - accuracy: 0.8018\n",
            "Epoch 5/32\n",
            "80/80 [==============================] - 0s 1ms/step - loss: 0.4589 - accuracy: 0.8059\n",
            "Epoch 6/32\n",
            "80/80 [==============================] - 0s 1ms/step - loss: 0.4428 - accuracy: 0.8089\n",
            "Epoch 7/32\n",
            "80/80 [==============================] - 0s 2ms/step - loss: 0.4294 - accuracy: 0.8104\n",
            "Epoch 8/32\n",
            "80/80 [==============================] - 0s 1ms/step - loss: 0.4185 - accuracy: 0.8126\n",
            "Epoch 9/32\n",
            "80/80 [==============================] - 0s 2ms/step - loss: 0.4095 - accuracy: 0.8151\n",
            "Epoch 10/32\n",
            "80/80 [==============================] - 0s 1ms/step - loss: 0.4012 - accuracy: 0.8185\n",
            "Epoch 11/32\n",
            "80/80 [==============================] - 0s 2ms/step - loss: 0.3941 - accuracy: 0.8254\n",
            "Epoch 12/32\n",
            "80/80 [==============================] - 0s 2ms/step - loss: 0.3875 - accuracy: 0.8304\n",
            "Epoch 13/32\n",
            "80/80 [==============================] - 0s 1ms/step - loss: 0.3817 - accuracy: 0.8341\n",
            "Epoch 14/32\n",
            "80/80 [==============================] - 0s 1ms/step - loss: 0.3768 - accuracy: 0.8363\n",
            "Epoch 15/32\n",
            "80/80 [==============================] - 0s 1ms/step - loss: 0.3725 - accuracy: 0.8385\n",
            "Epoch 16/32\n",
            "80/80 [==============================] - 0s 1ms/step - loss: 0.3688 - accuracy: 0.8415\n",
            "Epoch 17/32\n",
            "80/80 [==============================] - 0s 1ms/step - loss: 0.3649 - accuracy: 0.8447\n",
            "Epoch 18/32\n",
            "80/80 [==============================] - 0s 1ms/step - loss: 0.3612 - accuracy: 0.8494\n",
            "Epoch 19/32\n",
            "80/80 [==============================] - 0s 1ms/step - loss: 0.3583 - accuracy: 0.8528\n",
            "Epoch 20/32\n",
            "80/80 [==============================] - 0s 1ms/step - loss: 0.3557 - accuracy: 0.8528\n",
            "Epoch 21/32\n",
            "80/80 [==============================] - 0s 2ms/step - loss: 0.3535 - accuracy: 0.8537\n",
            "Epoch 22/32\n",
            "80/80 [==============================] - 0s 1ms/step - loss: 0.3519 - accuracy: 0.8554\n",
            "Epoch 23/32\n",
            "80/80 [==============================] - 0s 2ms/step - loss: 0.3501 - accuracy: 0.8555\n",
            "Epoch 24/32\n",
            "80/80 [==============================] - 0s 1ms/step - loss: 0.3488 - accuracy: 0.8574\n",
            "Epoch 25/32\n",
            "80/80 [==============================] - 0s 1ms/step - loss: 0.3477 - accuracy: 0.8579\n",
            "Epoch 26/32\n",
            "80/80 [==============================] - 0s 1ms/step - loss: 0.3463 - accuracy: 0.8587\n",
            "Epoch 27/32\n",
            "80/80 [==============================] - 0s 1ms/step - loss: 0.3453 - accuracy: 0.8600\n",
            "Epoch 28/32\n",
            "80/80 [==============================] - 0s 1ms/step - loss: 0.3449 - accuracy: 0.8595\n",
            "Epoch 29/32\n",
            "80/80 [==============================] - 0s 2ms/step - loss: 0.3439 - accuracy: 0.8600\n",
            "Epoch 30/32\n",
            "80/80 [==============================] - 0s 1ms/step - loss: 0.3436 - accuracy: 0.8597\n",
            "Epoch 31/32\n",
            "80/80 [==============================] - 0s 1ms/step - loss: 0.3428 - accuracy: 0.8622\n",
            "Epoch 32/32\n",
            "80/80 [==============================] - 0s 1ms/step - loss: 0.3426 - accuracy: 0.8609\n"
          ]
        }
      ]
    },
    {
      "cell_type": "code",
      "metadata": {
        "id": "-M0t0DHua7VO"
      },
      "source": [
        "X_test_scale = scaler.transform(X_test)"
      ],
      "execution_count": 20,
      "outputs": []
    },
    {
      "cell_type": "code",
      "metadata": {
        "id": "sYYRF6FLbg5z"
      },
      "source": [
        "# Hàm tích predict\n",
        "def predicttest(model, X_test_scale, threshold=0.5):\n",
        "  y_pred = model.predict(X_test_scale)\n",
        "  pred = list()\n",
        "  for i in range(len(y_pred)):\n",
        "    if(y_pred[i] > threshold):\n",
        "      pred.append(1)\n",
        "    else:\n",
        "      pred.append(0)\n",
        "  return pred"
      ],
      "execution_count": 21,
      "outputs": []
    },
    {
      "cell_type": "code",
      "metadata": {
        "id": "1nGAZ7Xwa9zq"
      },
      "source": [
        "predict = (predicttest(model, X_test_scale))"
      ],
      "execution_count": 22,
      "outputs": []
    },
    {
      "cell_type": "code",
      "metadata": {
        "colab": {
          "base_uri": "https://localhost:8080/"
        },
        "id": "lfzxRMumb_Zc",
        "outputId": "f5f841e9-1476-4943-b3cc-61fb8c594eec"
      },
      "source": [
        "from sklearn.metrics import accuracy_score\n",
        "acc = accuracy_score(predict,y_test)\n",
        "print('Accuracy is: ',round(acc,2)*100)"
      ],
      "execution_count": 23,
      "outputs": [
        {
          "output_type": "stream",
          "name": "stdout",
          "text": [
            "Accuracy is:  86.0\n"
          ]
        }
      ]
    },
    {
      "cell_type": "markdown",
      "metadata": {
        "id": "yoDv8iq0c9pe"
      },
      "source": [
        "# Kfold"
      ]
    },
    {
      "cell_type": "code",
      "metadata": {
        "id": "NqT6jMVCdhxC"
      },
      "source": [
        "from keras.wrappers.scikit_learn import KerasClassifier\n",
        "from sklearn.model_selection import cross_val_score"
      ],
      "execution_count": 31,
      "outputs": []
    },
    {
      "cell_type": "code",
      "metadata": {
        "id": "EX0a54Ucc9R8"
      },
      "source": [
        "X_scale_data = scaler.transform(X)"
      ],
      "execution_count": 32,
      "outputs": []
    },
    {
      "cell_type": "code",
      "metadata": {
        "id": "6VRXCRApdESI"
      },
      "source": [
        "kf = KFold(n_splits=5, random_state=0, shuffle=True)\n",
        "\n",
        "krkf = KerasClassifier(build_fn=Model, epochs=100, batch_size=32, verbose=0)\n",
        "\n",
        "scores = cross_val_score(krkf, X_scale_data, y, scoring='accuracy', cv=kf)"
      ],
      "execution_count": 33,
      "outputs": []
    },
    {
      "cell_type": "code",
      "metadata": {
        "colab": {
          "base_uri": "https://localhost:8080/"
        },
        "id": "4jKAA20QenU5",
        "outputId": "4b131ec8-000b-4d25-d832-6ef32f24f8c5"
      },
      "source": [
        "scores"
      ],
      "execution_count": 34,
      "outputs": [
        {
          "output_type": "execute_result",
          "data": {
            "text/plain": [
              "array([0.8695, 0.862 , 0.8685, 0.854 , 0.8565])"
            ]
          },
          "metadata": {},
          "execution_count": 34
        }
      ]
    },
    {
      "cell_type": "code",
      "metadata": {
        "colab": {
          "base_uri": "https://localhost:8080/"
        },
        "id": "ebpeW5uvd0h6",
        "outputId": "b9b43123-28fe-4dd2-dd91-27592cd408ab"
      },
      "source": [
        "print('Accuracy is: ',round(scores.mean()*100,2))"
      ],
      "execution_count": 36,
      "outputs": [
        {
          "output_type": "stream",
          "name": "stdout",
          "text": [
            "Accuracy is:  86.21\n"
          ]
        }
      ]
    }
  ]
}